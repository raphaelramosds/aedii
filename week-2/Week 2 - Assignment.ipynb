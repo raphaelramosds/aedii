{
 "cells": [
  {
   "cell_type": "markdown",
   "id": "3a7bfaa2-8bf1-45f2-8ddf-346bf6a4aad4",
   "metadata": {},
   "source": [
    "# Week 2 - Assignment\n",
    "\n",
    "## Corpus Preprocessing"
   ]
  },
  {
   "cell_type": "code",
   "execution_count": 1,
   "id": "b4bf29e5-5594-4707-9e3e-4cfe003e0199",
   "metadata": {},
   "outputs": [
    {
     "name": "stdout",
     "output_type": "stream",
     "text": [
      "Pré-processamento concluído.\n"
     ]
    }
   ],
   "source": [
    "# Uncomment this line for installing nltk\n",
    "# !pip install nltk\n",
    "\n",
    "import re\n",
    "import nltk\n",
    "from nltk.corpus import stopwords\n",
    "\n",
    "# Uncomment this line for nltk recognizing stop words\n",
    "# nltk.download('stopwords')\n",
    "\n",
    "def preprocess_text(text):\n",
    "    # Converter para minúsculas\n",
    "    text = text.lower()\n",
    "    \n",
    "    # Remover pontuação e caracteres especiais\n",
    "    text = re.sub(r'[^\\w\\s]', '', text)\n",
    "    \n",
    "    # Dividir o texto em palavras\n",
    "    words = text.split()\n",
    "    \n",
    "    # Remover palavras de parada\n",
    "    stop_words = set(stopwords.words('portuguese'))  # Lista de palavras de parada em português\n",
    "    filtered_words = [word for word in words if word not in stop_words]\n",
    "    \n",
    "    # Juntar as palavras novamente em um texto pré-processado\n",
    "    processed_text = ' '.join(filtered_words)\n",
    "    \n",
    "    return processed_text\n",
    "\n",
    "input_file_path = \"assets/data.txt\"\n",
    "output_file_path = \"assets/processado.txt\"\n",
    "\n",
    "with open(input_file_path, \"r\", encoding=\"utf-8\") as input_file:\n",
    "    input_text = input_file.read()\n",
    "    \n",
    "    processed_text = preprocess_text(input_text)\n",
    "    \n",
    "    with open(output_file_path, \"w\", encoding=\"utf-8\") as output_file:\n",
    "        output_file.write(processed_text)\n",
    "\n",
    "print(\"Pré-processamento concluído.\")"
   ]
  },
  {
   "cell_type": "markdown",
   "id": "bb72ee94-9156-47ad-a465-303d098fb9dc",
   "metadata": {},
   "source": [
    "## AVL Trees' construction"
   ]
  },
  {
   "cell_type": "markdown",
   "id": "f56d6f9c-1376-4647-b4a1-34cb27a82977",
   "metadata": {},
   "source": [
    "### Helper"
   ]
  },
  {
   "cell_type": "markdown",
   "id": "57150daa-1e2a-409d-9668-0bca925bd5cc",
   "metadata": {
    "jp-MarkdownHeadingCollapsed": true
   },
   "source": [
    "#### Node"
   ]
  },
  {
   "cell_type": "code",
   "execution_count": 2,
   "id": "17cbc3c2-aae1-4d38-8bd0-5b9f5ac63fc3",
   "metadata": {},
   "outputs": [],
   "source": [
    "class Node:\n",
    "    \"\"\"\n",
    "    A class representing a node in a Binary Search Tree (BST).\n",
    "\n",
    "    Each node contains a value and references to its left and right children.\n",
    "    \"\"\"\n",
    "\n",
    "    def __init__(self, value):\n",
    "        \"\"\"\n",
    "        Initializes a Node with a given value.\n",
    "\n",
    "        Parameters:\n",
    "        - value: The value to be stored in the node.\n",
    "\n",
    "        Both left and right child references are initialized as None.\n",
    "        \"\"\"\n",
    "        self.value = value\n",
    "        self.left_child = None\n",
    "        self.right_child = None\n",
    "        \n",
    "class AVLNode(Node):\n",
    "    \"\"\"\n",
    "    Represents a node in an AVL (Adelson-Velsky and Landis) tree,\n",
    "    which is a self-balancing binary search tree.\n",
    "\n",
    "    Attributes:\n",
    "        height (int): The height of the subtree rooted at this node,\n",
    "                      initializes to 1 when the node is created.\n",
    "        imbalance (int): The imbalance factor of this node, calculated\n",
    "                         as the difference between the heights of the left\n",
    "                         and right subtrees. Initializes to 0.\n",
    "\n",
    "    Inherits from:\n",
    "        Node: Inherits attributes and methods from the Node class.\n",
    "    \"\"\"\n",
    "\n",
    "    def __init__(self, value):\n",
    "        \"\"\"\n",
    "        Initializes an AVLNode with a given value.\n",
    "\n",
    "        Args:\n",
    "            value: The value to be stored in this node.\n",
    "        \"\"\"\n",
    "        super().__init__(value)\n",
    "        self.height = 1\n",
    "        self.imbalance = 0\n",
    "\n",
    "    def calculate_height_and_imbalance(self):\n",
    "        \"\"\"\n",
    "        Calculates the height and imbalance factor of this node based\n",
    "        on the heights of its left and right children.\n",
    "\n",
    "        This method assumes that the heights of the children nodes (if they exist)\n",
    "        are up-to-date.\n",
    "        \"\"\"\n",
    "        # Calculate the height of the left child subtree\n",
    "        left_height = 0\n",
    "        if self.left_child is not None:\n",
    "            left_height = self.left_child.height\n",
    "\n",
    "        # Calculate the height of the right child subtree\n",
    "        right_height = 0\n",
    "        if self.right_child is not None:\n",
    "            right_height = self.right_child.height\n",
    "\n",
    "        # Update the height of this node\n",
    "        self.height = 1 + max(left_height, right_height)\n",
    "\n",
    "        # Calculate and update the imbalance factor for this node\n",
    "        self.imbalance = left_height - right_height\n"
   ]
  },
  {
   "cell_type": "markdown",
   "id": "28270cc9-6124-49f2-a752-4bcbb2aaf106",
   "metadata": {},
   "source": [
    "#### BST"
   ]
  },
  {
   "cell_type": "code",
   "execution_count": 3,
   "id": "384e3aa6-552f-4893-837f-3572b2457b84",
   "metadata": {},
   "outputs": [],
   "source": [
    "class BST:\n",
    "    \"\"\"\n",
    "    Represents a Binary Search Tree (BST).\n",
    "\n",
    "    Attributes:\n",
    "        root (Node or None): The root node of the tree. Initializes to None for an empty tree.\n",
    "    \"\"\"\n",
    "\n",
    "    def __init__(self):\n",
    "        \"\"\"Initializes an empty BST.\"\"\"\n",
    "        self.root = None\n",
    "\n",
    "    def add(self, value):\n",
    "        \"\"\"\n",
    "        Inserts a new value into the BST.\n",
    "\n",
    "        Args:\n",
    "            value: The value to be added to the tree.\n",
    "\n",
    "        If the tree is empty, the value becomes the root. Otherwise, the method uses\n",
    "        a recursive helper function to find the appropriate position to maintain the BST property.\n",
    "        \"\"\"\n",
    "        if self.root is None:\n",
    "            self.root = Node(value)\n",
    "        else:\n",
    "            self._add_recursive(self.root, value)\n",
    "\n",
    "    def _add_recursive(self, current_node, value):\n",
    "        \"\"\"\n",
    "        Recursively finds the correct position and inserts a value into the BST.\n",
    "\n",
    "        Args:\n",
    "            current_node (Node): The node to start the search for the insert position from.\n",
    "            value: The value to be added to the BST.\n",
    "\n",
    "        The method determines if the new value should be placed to the left or right of\n",
    "        the current node. If the target position is empty, the value is inserted.\n",
    "        Otherwise, the function calls itself recursively with the respective child node.\n",
    "        \"\"\"\n",
    "        if value <= current_node.value:\n",
    "            if current_node.left_child is None:\n",
    "                current_node.left_child = Node(value)\n",
    "            else:\n",
    "                self._add_recursive(current_node.left_child, value)\n",
    "        else:\n",
    "            if current_node.right_child is None:\n",
    "                current_node.right_child = Node(value)\n",
    "            else:\n",
    "                self._add_recursive(current_node.right_child, value)\n",
    "\n",
    "    def _contains(self, current_node, value):\n",
    "        \"\"\"\n",
    "        Recursively checks if the BST contains the specified value starting from a given node.\n",
    "\n",
    "        Args:\n",
    "            current_node (Node): The node to start the search from.\n",
    "            value: The value to search for in the BST.\n",
    "\n",
    "        Returns:\n",
    "            bool: True if the value exists in the subtree rooted at current_node, otherwise False.\n",
    "        \"\"\"\n",
    "        if current_node is None:\n",
    "            return False\n",
    "        if current_node.value == value:\n",
    "            return True\n",
    "        if value < current_node.value:\n",
    "            return self._contains(current_node.left_child, value)\n",
    "        return self._contains(current_node.right_child, value)\n",
    "\n",
    "    def contains(self, value):\n",
    "        \"\"\"\n",
    "        Checks if the BST contains the specified value.\n",
    "\n",
    "        Args:\n",
    "            value: The value to search for in the BST.\n",
    "\n",
    "        Returns:\n",
    "            bool: True if the BST contains the value, otherwise False.\n",
    "        \"\"\"\n",
    "        return self._contains(self.root, value)"
   ]
  },
  {
   "cell_type": "markdown",
   "id": "8fa9a0df-c9e5-454c-ac72-f5b2fa3fba6d",
   "metadata": {
    "jp-MarkdownHeadingCollapsed": true
   },
   "source": [
    "#### AVL Tree"
   ]
  },
  {
   "cell_type": "code",
   "execution_count": 4,
   "id": "57c80c89-237d-489c-a808-a9aac6741290",
   "metadata": {},
   "outputs": [],
   "source": [
    "class AVLTree(BST):\n",
    "    \"\"\"\n",
    "    Represents an AVL (Adelson-Velsky and Landis) tree, a self-balancing binary search tree.\n",
    "    Inherits all attributes and methods from the BST class and overrides some to maintain the AVL balance property.\n",
    "\n",
    "    Attributes:\n",
    "        Inherits all attributes from the BST class.\n",
    "    \"\"\"\n",
    "\n",
    "    def __init__(self):\n",
    "        \"\"\"\n",
    "        Initializes an empty AVL Tree.\n",
    "        \"\"\"\n",
    "        super().__init__()\n",
    "\n",
    "    def add(self, value):\n",
    "        \"\"\"\n",
    "        Overrides the add method in the BST class to handle AVL Tree balancing.\n",
    "        \"\"\"\n",
    "        self.root = self._add_recursive(self.root, value)  # Note that self.root is updated here\n",
    "\n",
    "\n",
    "    def _add_recursive(self, current_node, value):\n",
    "        \"\"\"\n",
    "        Overrides the BST method to recursively find the correct position and insert a value into the AVL tree.\n",
    "        This method also ensures the tree remains balanced by updating node heights and performing rotations as needed.\n",
    "\n",
    "        Args:\n",
    "            current_node (AVLNode or Node or None): The node from which to start the search for the insert position.\n",
    "            value (Any): The value to be added to the AVL tree.\n",
    "\n",
    "        Returns:\n",
    "            AVLNode: The node that either gets inserted or the node that was already present at that position.\n",
    "\n",
    "        Notes:\n",
    "            1. The method first checks if the `current_node` is an instance of the base class `Node`.\n",
    "              If it is, the method casts it to `AVLNode` to ensure AVL properties are maintained. This is especially\n",
    "              useful if the first node added to the tree is of type `Node`; this ensures subsequent nodes will be of\n",
    "              type `AVLNode`.\n",
    "            2. The method also balances the tree by calling the `_balance` method if the imbalance factor\n",
    "              of a node reaches 2 or -2 after an insert operation.\n",
    "        \"\"\"\n",
    "\n",
    "        # If the current node is None, return a new AVLNode containing the value\n",
    "        if current_node is None:\n",
    "            return AVLNode(value)\n",
    "\n",
    "        # Check if current_node is of the base class Node and cast it to AVLNode if necessary\n",
    "        # This is necessary to not change the add() in the BST class.\n",
    "        # When the first node is added, the type of the root is Node, so we need to cast it\n",
    "        if isinstance(current_node, Node) and not isinstance(current_node, AVLNode):\n",
    "            current_node = AVLNode(current_node.value)\n",
    "            current_node.left_child = self.root.left_child\n",
    "            current_node.right_child = self.root.right_child\n",
    "            self.root = current_node\n",
    "\n",
    "        # Determine whether the value should be inserted to the left or right subtree\n",
    "        if value <= current_node.value:\n",
    "            current_node.left_child = self._add_recursive(current_node.left_child, value)\n",
    "        else:\n",
    "            current_node.right_child = self._add_recursive(current_node.right_child, value)\n",
    "\n",
    "        # Update the height and imbalance factor for the current node\n",
    "        current_node.calculate_height_and_imbalance()\n",
    "\n",
    "        # Check if tree balancing is needed and balance if necessary\n",
    "        if abs(current_node.imbalance) == 2:\n",
    "            return self._balance(current_node)\n",
    "\n",
    "        return current_node\n",
    "\n",
    "    def get_height(self):\n",
    "        \"\"\"\n",
    "        Retrieves the height of the AVL Tree.\n",
    "\n",
    "        Returns:\n",
    "            int: The height of the tree rooted at self.root. Returns 0 if the tree is empty.\n",
    "        \"\"\"\n",
    "        if self.root is None:\n",
    "            return 0\n",
    "        return self.root.height\n",
    "\n",
    "    def _rotate_left(self, node):\n",
    "        \"\"\"\n",
    "        Performs a left rotation on the given node and adjusts the height and imbalance attributes.\n",
    "\n",
    "        A left rotation is used to balance an AVL Tree when the right subtree of a node\n",
    "        becomes higher than the left subtree. The method updates the heights and imbalance\n",
    "        factors for the rotated nodes.\n",
    "\n",
    "        Args:\n",
    "            node (AVLNode): The node to be rotated.\n",
    "\n",
    "        Returns:\n",
    "            AVLNode: The new root node of the rotated subtree (the pivot).\n",
    "        \"\"\"\n",
    "\n",
    "        # Store the pivot (the root of the right subtree of 'node')\n",
    "        pivot = node.right_child\n",
    "\n",
    "        # Update the right child of 'node' to be the left child of the pivot\n",
    "        node.right_child = pivot.left_child\n",
    "\n",
    "        # Set the left child of the pivot to be the node\n",
    "        pivot.left_child = node\n",
    "\n",
    "        # Recalculate the height and imbalance factor for the rotated node\n",
    "        node.calculate_height_and_imbalance()\n",
    "\n",
    "        # Recalculate the height and imbalance factor for the pivot\n",
    "        pivot.calculate_height_and_imbalance()\n",
    "\n",
    "        # Return the pivot as the new root of this subtree\n",
    "        return pivot\n",
    "\n",
    "\n",
    "    def _rotate_right(self, node):\n",
    "        \"\"\"\n",
    "        Performs a right rotation on the given node and adjusts the height and imbalance attributes.\n",
    "\n",
    "        A right rotation is used to balance an AVL Tree when the left subtree of a node\n",
    "        becomes higher than the right subtree. This method updates the heights and imbalance\n",
    "        factors for the rotated nodes.\n",
    "\n",
    "        Args:\n",
    "            node (AVLNode): The node around which the rotation will be performed.\n",
    "\n",
    "        Returns:\n",
    "            AVLNode: The new root node of the rotated subtree (the pivot).\n",
    "        \"\"\"\n",
    "\n",
    "        # Store the pivot (the root of the left subtree of 'node')\n",
    "        pivot = node.left_child\n",
    "\n",
    "        # Update the left child of 'node' to be the right child of the pivot\n",
    "        node.left_child = pivot.right_child\n",
    "\n",
    "        # Set the right child of the pivot to be the node\n",
    "        pivot.right_child = node\n",
    "\n",
    "        # Recalculate the height and imbalance factor for the rotated node\n",
    "        node.calculate_height_and_imbalance()\n",
    "\n",
    "        # Recalculate the height and imbalance factor for the pivot\n",
    "        pivot.calculate_height_and_imbalance()\n",
    "\n",
    "        # Return the pivot as the new root of this subtree\n",
    "        return pivot\n",
    "\n",
    "    def _balance(self, node):\n",
    "      \"\"\"\n",
    "      Balances the subtree rooted at the given node by performing rotations as needed.\n",
    "\n",
    "      If the imbalance factor of the given node is 2 or -2, rotations are performed\n",
    "      to bring the subtree back into balance. This method also takes into account\n",
    "      the imbalance factors of the child nodes to decide which type of rotation is needed\n",
    "      (single or double).\n",
    "\n",
    "      Args:\n",
    "          node (AVLNode): The root node of the subtree that needs to be balanced.\n",
    "\n",
    "      Returns:\n",
    "          AVLNode: The new root node of the balanced subtree.\n",
    "\n",
    "      Note:\n",
    "          This method assumes that the height and imbalance factor of each node are up-to-date.\n",
    "      \"\"\"\n",
    "\n",
    "      # Case 1: Left subtree is higher than right subtree\n",
    "      if node.imbalance == 2:\n",
    "          pivot = node.left_child\n",
    "          # Single right rotation\n",
    "          if pivot.imbalance == 1:\n",
    "              return self._rotate_right(node)\n",
    "          # Double rotation: Left-Right\n",
    "          else:\n",
    "              node.left_child = self._rotate_left(pivot)\n",
    "              return self._rotate_right(node)\n",
    "      # Case 2: Right subtree is higher than left subtree\n",
    "      else:\n",
    "          pivot = node.right_child\n",
    "          # Single left rotation\n",
    "          if pivot.imbalance == -1:\n",
    "              return self._rotate_left(node)\n",
    "          # Double rotation: Right-Left\n",
    "          else:\n",
    "              node.right_child = self._rotate_right(pivot)\n",
    "              return self._rotate_left(node)"
   ]
  },
  {
   "cell_type": "markdown",
   "id": "826f2fd2-dcfe-4862-85b0-bc21782e7d69",
   "metadata": {
    "jp-MarkdownHeadingCollapsed": true
   },
   "source": [
    "### Plot AVL Tree"
   ]
  },
  {
   "cell_type": "code",
   "execution_count": 5,
   "id": "4b79fcb4-535c-48c9-967b-0e1a8fa10e52",
   "metadata": {},
   "outputs": [],
   "source": [
    "# !pip install plotly\n",
    "\n",
    "import plotly.graph_objects as go\n",
    "\n",
    "def visualize_avl_tree(avl_tree):\n",
    "    \"\"\"\n",
    "    Visualize an AVL Tree using Plotly.\n",
    "    :param avl_tree: The AVLTree object to visualize\n",
    "    \"\"\"\n",
    "    # Lists to store node values, hover texts, x and y coordinates, and edge coordinates\n",
    "    node_values = []\n",
    "    hover_texts = []\n",
    "    Xn, Yn = [], []\n",
    "    Xe, Ye = [], []\n",
    "\n",
    "    # Traversing the tree to collect node and edge data\n",
    "    def traverse(node, x=0, y=0, layer=1):\n",
    "        if node is not None:\n",
    "            node_values.append(node.value)\n",
    "            hover_texts.append(f\"Value: {node.value}Height: {node.height}Imbalance: {node.imbalance}\")\n",
    "            Xn.append(x)\n",
    "            Yn.append(y)\n",
    "            if node.left_child:\n",
    "                Xe.extend([x, x - layer])\n",
    "                Ye.extend([y, y - layer * 2])\n",
    "                traverse(node.left_child, x=x-layer, y=y-layer*2, layer=layer/2)\n",
    "            if node.right_child:\n",
    "                Xe.extend([x, x + layer])\n",
    "                Ye.extend([y, y - layer * 2])\n",
    "                traverse(node.right_child, x=x+layer, y=y-layer*2, layer=layer/2)\n",
    "\n",
    "    # Initialize traversal with the root node of the AVL tree\n",
    "    traverse(avl_tree.root)\n",
    "\n",
    "    # Create Plotly figure\n",
    "    fig = go.Figure()\n",
    "\n",
    "    # Add nodes (as scatter plot)\n",
    "    fig.add_trace(go.Scatter(x=Xn,\n",
    "                             y=Yn,\n",
    "                             mode='markers+text',\n",
    "                             name='Nodes',\n",
    "                             marker=dict(symbol='circle-dot',\n",
    "                                         size=30,\n",
    "                                         color='blue'),\n",
    "                             text=node_values,  # This will appear inside the node\n",
    "                             hoverinfo='text',\n",
    "                             hovertext=hover_texts,  # This will appear upon hover\n",
    "                             textposition='top center'))\n",
    "\n",
    "    # Add edges (as line plot)\n",
    "    fig.add_trace(go.Scatter(x=Xe,\n",
    "                             y=Ye,\n",
    "                             mode='lines',\n",
    "                             name='Edges',\n",
    "                             line=dict(width=1.5, color='gray')))\n",
    "\n",
    "    # Set layout properties\n",
    "    fig.update_layout(showlegend=False,\n",
    "                      hovermode='closest',\n",
    "                      xaxis=dict(showgrid=False, zeroline=False, showticklabels=False),\n",
    "                      yaxis=dict(showgrid=False, zeroline=False, showticklabels=False))\n",
    "\n",
    "    fig.show()"
   ]
  },
  {
   "cell_type": "markdown",
   "id": "e9063735-fdad-4e0a-a64f-ae81c36d0644",
   "metadata": {},
   "source": [
    "### Filling AVL Tree"
   ]
  },
  {
   "cell_type": "code",
   "execution_count": 6,
   "id": "5cc00aa2-eb4f-438c-b8d9-530d49ec9f79",
   "metadata": {},
   "outputs": [
    {
     "name": "stdout",
     "output_type": "stream",
     "text": [
      "Inserção de palavras na AVL concluída.\n"
     ]
    }
   ],
   "source": [
    "def insert_words_from_file(avl_tree, file_path):\n",
    "    with open(file_path, \"r\", encoding=\"utf-8\") as file:\n",
    "        words = file.read().split()\n",
    "        unique_words = set(words)\n",
    "        for word in unique_words:\n",
    "            avl_tree.add(word)\n",
    "\n",
    "avl_tree = AVLTree()\n",
    "\n",
    "processed_file_path = \"assets/processado.txt\"\n",
    "    \n",
    "insert_words_from_file(avl_tree, processed_file_path)\n",
    "    \n",
    "print(\"Inserção de palavras na AVL concluída.\")"
   ]
  },
  {
   "cell_type": "markdown",
   "id": "888bf590-3d02-4f3d-8c2e-094822885834",
   "metadata": {},
   "source": [
    "## Automplete function"
   ]
  },
  {
   "cell_type": "code",
   "execution_count": 76,
   "id": "76b0bf87-4815-4195-8c71-471ce4e9497d",
   "metadata": {},
   "outputs": [
    {
     "name": "stdout",
     "output_type": "stream",
     "text": [
      "instalada\n",
      "['instalada']\n"
     ]
    },
    {
     "data": {
      "application/vnd.plotly.v1+json": {
       "config": {
        "plotlyServerURL": "https://plot.ly"
       },
       "data": [
        {
         "hoverinfo": "text",
         "hovertext": [
          "Value: instaladaHeight: 6Imbalance: 0",
          "Value: conformeHeight: 5Imbalance: 1",
          "Value: caminhodoarquivoprocessadotxtHeight: 4Imbalance: 1",
          "Value: bibliotecaHeight: 3Imbalance: 1",
          "Value: ajustarHeight: 2Imbalance: -1",
          "Value: arquivoHeight: 1Imbalance: 0",
          "Value: caminhoHeight: 1Imbalance: 0",
          "Value: caminhodoseuarquivotxtHeight: 2Imbalance: -1",
          "Value: certifiqueseHeight: 1Imbalance: 0",
          "Value: entradaHeight: 3Imbalance: 0",
          "Value: desejaHeight: 2Imbalance: 1",
          "Value: definidasHeight: 1Imbalance: 0",
          "Value: exemploHeight: 2Imbalance: 0",
          "Value: executandoHeight: 1Imbalance: 0",
          "Value: idiomaHeight: 1Imbalance: 0",
          "Value: ondeHeight: 5Imbalance: -1",
          "Value: necessárioHeight: 3Imbalance: 0",
          "Value: installHeight: 2Imbalance: 0",
          "Value: instalarHeight: 1Imbalance: 0",
          "Value: lembreseHeight: 1Imbalance: 0",
          "Value: nesteHeight: 2Imbalance: -1",
          "Value: nltkHeight: 1Imbalance: 0",
          "Value: salvarHeight: 4Imbalance: 1",
          "Value: podeHeight: 3Imbalance: 0",
          "Value: paradaHeight: 2Imbalance: 0",
          "Value: palavrasHeight: 1Imbalance: 0",
          "Value: pipHeight: 1Imbalance: 0",
          "Value: processadoHeight: 2Imbalance: 0",
          "Value: portuguêsHeight: 1Imbalance: 0",
          "Value: realHeight: 1Imbalance: 0",
          "Value: terHeight: 2Imbalance: 0",
          "Value: substituirHeight: 1Imbalance: 0",
          "Value: terminalHeight: 1Imbalance: 0"
         ],
         "marker": {
          "color": "blue",
          "size": 30,
          "symbol": "circle-dot"
         },
         "mode": "markers+text",
         "name": "Nodes",
         "text": [
          "instalada",
          "conforme",
          "caminhodoarquivoprocessadotxt",
          "biblioteca",
          "ajustar",
          "arquivo",
          "caminho",
          "caminhodoseuarquivotxt",
          "certifiquese",
          "entrada",
          "deseja",
          "definidas",
          "exemplo",
          "executando",
          "idioma",
          "onde",
          "necessário",
          "install",
          "instalar",
          "lembrese",
          "neste",
          "nltk",
          "salvar",
          "pode",
          "parada",
          "palavras",
          "pip",
          "processado",
          "português",
          "real",
          "ter",
          "substituir",
          "terminal"
         ],
         "textposition": "top center",
         "type": "scatter",
         "x": [
          0,
          -1,
          -1.5,
          -1.75,
          -1.875,
          -1.8125,
          -1.625,
          -1.25,
          -1.125,
          -0.5,
          -0.75,
          -0.875,
          -0.25,
          -0.375,
          -0.125,
          1,
          0.5,
          0.25,
          0.125,
          0.375,
          0.75,
          0.875,
          1.5,
          1.25,
          1.125,
          1.0625,
          1.1875,
          1.375,
          1.3125,
          1.4375,
          1.75,
          1.625,
          1.875
         ],
         "y": [
          0,
          -2,
          -3,
          -3.5,
          -3.75,
          -3.875,
          -3.75,
          -3.5,
          -3.75,
          -3,
          -3.5,
          -3.75,
          -3.5,
          -3.75,
          -3.75,
          -2,
          -3,
          -3.5,
          -3.75,
          -3.75,
          -3.5,
          -3.75,
          -3,
          -3.5,
          -3.75,
          -3.875,
          -3.875,
          -3.75,
          -3.875,
          -3.875,
          -3.5,
          -3.75,
          -3.75
         ]
        },
        {
         "line": {
          "color": "gray",
          "width": 1.5
         },
         "mode": "lines",
         "name": "Edges",
         "type": "scatter",
         "x": [
          0,
          -1,
          -1,
          -1.5,
          -1.5,
          -1.75,
          -1.75,
          -1.875,
          -1.875,
          -1.8125,
          -1.75,
          -1.625,
          -1.5,
          -1.25,
          -1.25,
          -1.125,
          -1,
          -0.5,
          -0.5,
          -0.75,
          -0.75,
          -0.875,
          -0.5,
          -0.25,
          -0.25,
          -0.375,
          -0.25,
          -0.125,
          0,
          1,
          1,
          0.5,
          0.5,
          0.25,
          0.25,
          0.125,
          0.25,
          0.375,
          0.5,
          0.75,
          0.75,
          0.875,
          1,
          1.5,
          1.5,
          1.25,
          1.25,
          1.125,
          1.125,
          1.0625,
          1.125,
          1.1875,
          1.25,
          1.375,
          1.375,
          1.3125,
          1.375,
          1.4375,
          1.5,
          1.75,
          1.75,
          1.625,
          1.75,
          1.875
         ],
         "y": [
          0,
          -2,
          -2,
          -3,
          -3,
          -3.5,
          -3.5,
          -3.75,
          -3.75,
          -3.875,
          -3.5,
          -3.75,
          -3,
          -3.5,
          -3.5,
          -3.75,
          -2,
          -3,
          -3,
          -3.5,
          -3.5,
          -3.75,
          -3,
          -3.5,
          -3.5,
          -3.75,
          -3.5,
          -3.75,
          0,
          -2,
          -2,
          -3,
          -3,
          -3.5,
          -3.5,
          -3.75,
          -3.5,
          -3.75,
          -3,
          -3.5,
          -3.5,
          -3.75,
          -2,
          -3,
          -3,
          -3.5,
          -3.5,
          -3.75,
          -3.75,
          -3.875,
          -3.75,
          -3.875,
          -3.5,
          -3.75,
          -3.75,
          -3.875,
          -3.75,
          -3.875,
          -3,
          -3.5,
          -3.5,
          -3.75,
          -3.5,
          -3.75
         ]
        }
       ],
       "layout": {
        "autosize": true,
        "hovermode": "closest",
        "showlegend": false,
        "template": {
         "data": {
          "bar": [
           {
            "error_x": {
             "color": "#2a3f5f"
            },
            "error_y": {
             "color": "#2a3f5f"
            },
            "marker": {
             "line": {
              "color": "#E5ECF6",
              "width": 0.5
             },
             "pattern": {
              "fillmode": "overlay",
              "size": 10,
              "solidity": 0.2
             }
            },
            "type": "bar"
           }
          ],
          "barpolar": [
           {
            "marker": {
             "line": {
              "color": "#E5ECF6",
              "width": 0.5
             },
             "pattern": {
              "fillmode": "overlay",
              "size": 10,
              "solidity": 0.2
             }
            },
            "type": "barpolar"
           }
          ],
          "carpet": [
           {
            "aaxis": {
             "endlinecolor": "#2a3f5f",
             "gridcolor": "white",
             "linecolor": "white",
             "minorgridcolor": "white",
             "startlinecolor": "#2a3f5f"
            },
            "baxis": {
             "endlinecolor": "#2a3f5f",
             "gridcolor": "white",
             "linecolor": "white",
             "minorgridcolor": "white",
             "startlinecolor": "#2a3f5f"
            },
            "type": "carpet"
           }
          ],
          "choropleth": [
           {
            "colorbar": {
             "outlinewidth": 0,
             "ticks": ""
            },
            "type": "choropleth"
           }
          ],
          "contour": [
           {
            "colorbar": {
             "outlinewidth": 0,
             "ticks": ""
            },
            "colorscale": [
             [
              0,
              "#0d0887"
             ],
             [
              0.1111111111111111,
              "#46039f"
             ],
             [
              0.2222222222222222,
              "#7201a8"
             ],
             [
              0.3333333333333333,
              "#9c179e"
             ],
             [
              0.4444444444444444,
              "#bd3786"
             ],
             [
              0.5555555555555556,
              "#d8576b"
             ],
             [
              0.6666666666666666,
              "#ed7953"
             ],
             [
              0.7777777777777778,
              "#fb9f3a"
             ],
             [
              0.8888888888888888,
              "#fdca26"
             ],
             [
              1,
              "#f0f921"
             ]
            ],
            "type": "contour"
           }
          ],
          "contourcarpet": [
           {
            "colorbar": {
             "outlinewidth": 0,
             "ticks": ""
            },
            "type": "contourcarpet"
           }
          ],
          "heatmap": [
           {
            "colorbar": {
             "outlinewidth": 0,
             "ticks": ""
            },
            "colorscale": [
             [
              0,
              "#0d0887"
             ],
             [
              0.1111111111111111,
              "#46039f"
             ],
             [
              0.2222222222222222,
              "#7201a8"
             ],
             [
              0.3333333333333333,
              "#9c179e"
             ],
             [
              0.4444444444444444,
              "#bd3786"
             ],
             [
              0.5555555555555556,
              "#d8576b"
             ],
             [
              0.6666666666666666,
              "#ed7953"
             ],
             [
              0.7777777777777778,
              "#fb9f3a"
             ],
             [
              0.8888888888888888,
              "#fdca26"
             ],
             [
              1,
              "#f0f921"
             ]
            ],
            "type": "heatmap"
           }
          ],
          "heatmapgl": [
           {
            "colorbar": {
             "outlinewidth": 0,
             "ticks": ""
            },
            "colorscale": [
             [
              0,
              "#0d0887"
             ],
             [
              0.1111111111111111,
              "#46039f"
             ],
             [
              0.2222222222222222,
              "#7201a8"
             ],
             [
              0.3333333333333333,
              "#9c179e"
             ],
             [
              0.4444444444444444,
              "#bd3786"
             ],
             [
              0.5555555555555556,
              "#d8576b"
             ],
             [
              0.6666666666666666,
              "#ed7953"
             ],
             [
              0.7777777777777778,
              "#fb9f3a"
             ],
             [
              0.8888888888888888,
              "#fdca26"
             ],
             [
              1,
              "#f0f921"
             ]
            ],
            "type": "heatmapgl"
           }
          ],
          "histogram": [
           {
            "marker": {
             "pattern": {
              "fillmode": "overlay",
              "size": 10,
              "solidity": 0.2
             }
            },
            "type": "histogram"
           }
          ],
          "histogram2d": [
           {
            "colorbar": {
             "outlinewidth": 0,
             "ticks": ""
            },
            "colorscale": [
             [
              0,
              "#0d0887"
             ],
             [
              0.1111111111111111,
              "#46039f"
             ],
             [
              0.2222222222222222,
              "#7201a8"
             ],
             [
              0.3333333333333333,
              "#9c179e"
             ],
             [
              0.4444444444444444,
              "#bd3786"
             ],
             [
              0.5555555555555556,
              "#d8576b"
             ],
             [
              0.6666666666666666,
              "#ed7953"
             ],
             [
              0.7777777777777778,
              "#fb9f3a"
             ],
             [
              0.8888888888888888,
              "#fdca26"
             ],
             [
              1,
              "#f0f921"
             ]
            ],
            "type": "histogram2d"
           }
          ],
          "histogram2dcontour": [
           {
            "colorbar": {
             "outlinewidth": 0,
             "ticks": ""
            },
            "colorscale": [
             [
              0,
              "#0d0887"
             ],
             [
              0.1111111111111111,
              "#46039f"
             ],
             [
              0.2222222222222222,
              "#7201a8"
             ],
             [
              0.3333333333333333,
              "#9c179e"
             ],
             [
              0.4444444444444444,
              "#bd3786"
             ],
             [
              0.5555555555555556,
              "#d8576b"
             ],
             [
              0.6666666666666666,
              "#ed7953"
             ],
             [
              0.7777777777777778,
              "#fb9f3a"
             ],
             [
              0.8888888888888888,
              "#fdca26"
             ],
             [
              1,
              "#f0f921"
             ]
            ],
            "type": "histogram2dcontour"
           }
          ],
          "mesh3d": [
           {
            "colorbar": {
             "outlinewidth": 0,
             "ticks": ""
            },
            "type": "mesh3d"
           }
          ],
          "parcoords": [
           {
            "line": {
             "colorbar": {
              "outlinewidth": 0,
              "ticks": ""
             }
            },
            "type": "parcoords"
           }
          ],
          "pie": [
           {
            "automargin": true,
            "type": "pie"
           }
          ],
          "scatter": [
           {
            "fillpattern": {
             "fillmode": "overlay",
             "size": 10,
             "solidity": 0.2
            },
            "type": "scatter"
           }
          ],
          "scatter3d": [
           {
            "line": {
             "colorbar": {
              "outlinewidth": 0,
              "ticks": ""
             }
            },
            "marker": {
             "colorbar": {
              "outlinewidth": 0,
              "ticks": ""
             }
            },
            "type": "scatter3d"
           }
          ],
          "scattercarpet": [
           {
            "marker": {
             "colorbar": {
              "outlinewidth": 0,
              "ticks": ""
             }
            },
            "type": "scattercarpet"
           }
          ],
          "scattergeo": [
           {
            "marker": {
             "colorbar": {
              "outlinewidth": 0,
              "ticks": ""
             }
            },
            "type": "scattergeo"
           }
          ],
          "scattergl": [
           {
            "marker": {
             "colorbar": {
              "outlinewidth": 0,
              "ticks": ""
             }
            },
            "type": "scattergl"
           }
          ],
          "scattermapbox": [
           {
            "marker": {
             "colorbar": {
              "outlinewidth": 0,
              "ticks": ""
             }
            },
            "type": "scattermapbox"
           }
          ],
          "scatterpolar": [
           {
            "marker": {
             "colorbar": {
              "outlinewidth": 0,
              "ticks": ""
             }
            },
            "type": "scatterpolar"
           }
          ],
          "scatterpolargl": [
           {
            "marker": {
             "colorbar": {
              "outlinewidth": 0,
              "ticks": ""
             }
            },
            "type": "scatterpolargl"
           }
          ],
          "scatterternary": [
           {
            "marker": {
             "colorbar": {
              "outlinewidth": 0,
              "ticks": ""
             }
            },
            "type": "scatterternary"
           }
          ],
          "surface": [
           {
            "colorbar": {
             "outlinewidth": 0,
             "ticks": ""
            },
            "colorscale": [
             [
              0,
              "#0d0887"
             ],
             [
              0.1111111111111111,
              "#46039f"
             ],
             [
              0.2222222222222222,
              "#7201a8"
             ],
             [
              0.3333333333333333,
              "#9c179e"
             ],
             [
              0.4444444444444444,
              "#bd3786"
             ],
             [
              0.5555555555555556,
              "#d8576b"
             ],
             [
              0.6666666666666666,
              "#ed7953"
             ],
             [
              0.7777777777777778,
              "#fb9f3a"
             ],
             [
              0.8888888888888888,
              "#fdca26"
             ],
             [
              1,
              "#f0f921"
             ]
            ],
            "type": "surface"
           }
          ],
          "table": [
           {
            "cells": {
             "fill": {
              "color": "#EBF0F8"
             },
             "line": {
              "color": "white"
             }
            },
            "header": {
             "fill": {
              "color": "#C8D4E3"
             },
             "line": {
              "color": "white"
             }
            },
            "type": "table"
           }
          ]
         },
         "layout": {
          "annotationdefaults": {
           "arrowcolor": "#2a3f5f",
           "arrowhead": 0,
           "arrowwidth": 1
          },
          "autotypenumbers": "strict",
          "coloraxis": {
           "colorbar": {
            "outlinewidth": 0,
            "ticks": ""
           }
          },
          "colorscale": {
           "diverging": [
            [
             0,
             "#8e0152"
            ],
            [
             0.1,
             "#c51b7d"
            ],
            [
             0.2,
             "#de77ae"
            ],
            [
             0.3,
             "#f1b6da"
            ],
            [
             0.4,
             "#fde0ef"
            ],
            [
             0.5,
             "#f7f7f7"
            ],
            [
             0.6,
             "#e6f5d0"
            ],
            [
             0.7,
             "#b8e186"
            ],
            [
             0.8,
             "#7fbc41"
            ],
            [
             0.9,
             "#4d9221"
            ],
            [
             1,
             "#276419"
            ]
           ],
           "sequential": [
            [
             0,
             "#0d0887"
            ],
            [
             0.1111111111111111,
             "#46039f"
            ],
            [
             0.2222222222222222,
             "#7201a8"
            ],
            [
             0.3333333333333333,
             "#9c179e"
            ],
            [
             0.4444444444444444,
             "#bd3786"
            ],
            [
             0.5555555555555556,
             "#d8576b"
            ],
            [
             0.6666666666666666,
             "#ed7953"
            ],
            [
             0.7777777777777778,
             "#fb9f3a"
            ],
            [
             0.8888888888888888,
             "#fdca26"
            ],
            [
             1,
             "#f0f921"
            ]
           ],
           "sequentialminus": [
            [
             0,
             "#0d0887"
            ],
            [
             0.1111111111111111,
             "#46039f"
            ],
            [
             0.2222222222222222,
             "#7201a8"
            ],
            [
             0.3333333333333333,
             "#9c179e"
            ],
            [
             0.4444444444444444,
             "#bd3786"
            ],
            [
             0.5555555555555556,
             "#d8576b"
            ],
            [
             0.6666666666666666,
             "#ed7953"
            ],
            [
             0.7777777777777778,
             "#fb9f3a"
            ],
            [
             0.8888888888888888,
             "#fdca26"
            ],
            [
             1,
             "#f0f921"
            ]
           ]
          },
          "colorway": [
           "#636efa",
           "#EF553B",
           "#00cc96",
           "#ab63fa",
           "#FFA15A",
           "#19d3f3",
           "#FF6692",
           "#B6E880",
           "#FF97FF",
           "#FECB52"
          ],
          "font": {
           "color": "#2a3f5f"
          },
          "geo": {
           "bgcolor": "white",
           "lakecolor": "white",
           "landcolor": "#E5ECF6",
           "showlakes": true,
           "showland": true,
           "subunitcolor": "white"
          },
          "hoverlabel": {
           "align": "left"
          },
          "hovermode": "closest",
          "mapbox": {
           "style": "light"
          },
          "paper_bgcolor": "white",
          "plot_bgcolor": "#E5ECF6",
          "polar": {
           "angularaxis": {
            "gridcolor": "white",
            "linecolor": "white",
            "ticks": ""
           },
           "bgcolor": "#E5ECF6",
           "radialaxis": {
            "gridcolor": "white",
            "linecolor": "white",
            "ticks": ""
           }
          },
          "scene": {
           "xaxis": {
            "backgroundcolor": "#E5ECF6",
            "gridcolor": "white",
            "gridwidth": 2,
            "linecolor": "white",
            "showbackground": true,
            "ticks": "",
            "zerolinecolor": "white"
           },
           "yaxis": {
            "backgroundcolor": "#E5ECF6",
            "gridcolor": "white",
            "gridwidth": 2,
            "linecolor": "white",
            "showbackground": true,
            "ticks": "",
            "zerolinecolor": "white"
           },
           "zaxis": {
            "backgroundcolor": "#E5ECF6",
            "gridcolor": "white",
            "gridwidth": 2,
            "linecolor": "white",
            "showbackground": true,
            "ticks": "",
            "zerolinecolor": "white"
           }
          },
          "shapedefaults": {
           "line": {
            "color": "#2a3f5f"
           }
          },
          "ternary": {
           "aaxis": {
            "gridcolor": "white",
            "linecolor": "white",
            "ticks": ""
           },
           "baxis": {
            "gridcolor": "white",
            "linecolor": "white",
            "ticks": ""
           },
           "bgcolor": "#E5ECF6",
           "caxis": {
            "gridcolor": "white",
            "linecolor": "white",
            "ticks": ""
           }
          },
          "title": {
           "x": 0.05
          },
          "xaxis": {
           "automargin": true,
           "gridcolor": "white",
           "linecolor": "white",
           "ticks": "",
           "title": {
            "standoff": 15
           },
           "zerolinecolor": "white",
           "zerolinewidth": 2
          },
          "yaxis": {
           "automargin": true,
           "gridcolor": "white",
           "linecolor": "white",
           "ticks": "",
           "title": {
            "standoff": 15
           },
           "zerolinecolor": "white",
           "zerolinewidth": 2
          }
         }
        },
        "xaxis": {
         "autorange": true,
         "range": [
          -2.179641272189349,
          2.179641272189349
         ],
         "showgrid": false,
         "showticklabels": false,
         "type": "linear",
         "zeroline": false
        },
        "yaxis": {
         "autorange": true,
         "range": [
          -4.738704819277109,
          0.8637048192771084
         ],
         "showgrid": false,
         "showticklabels": false,
         "type": "linear",
         "zeroline": false
        }
       }
      },
      "image/png": "[encoded data removed]",
      "text/html": [
       "<div>                            <div id=\"487ba17f-8ab1-4d65-ae62-fd8151c444c3\" class=\"plotly-graph-div\" style=\"height:525px; width:100%;\"></div>            <script type=\"text/javascript\">                require([\"plotly\"], function(Plotly) {                    window.PLOTLYENV=window.PLOTLYENV || {};                                    if (document.getElementById(\"487ba17f-8ab1-4d65-ae62-fd8151c444c3\")) {                    Plotly.newPlot(                        \"487ba17f-8ab1-4d65-ae62-fd8151c444c3\",                        [{\"hoverinfo\":\"text\",\"hovertext\":[\"Value: instaladaHeight: 6Imbalance: 0\",\"Value: conformeHeight: 5Imbalance: 1\",\"Value: caminhodoarquivoprocessadotxtHeight: 4Imbalance: 1\",\"Value: bibliotecaHeight: 3Imbalance: 1\",\"Value: ajustarHeight: 2Imbalance: -1\",\"Value: arquivoHeight: 1Imbalance: 0\",\"Value: caminhoHeight: 1Imbalance: 0\",\"Value: caminhodoseuarquivotxtHeight: 2Imbalance: -1\",\"Value: certifiqueseHeight: 1Imbalance: 0\",\"Value: entradaHeight: 3Imbalance: 0\",\"Value: desejaHeight: 2Imbalance: 1\",\"Value: definidasHeight: 1Imbalance: 0\",\"Value: exemploHeight: 2Imbalance: 0\",\"Value: executandoHeight: 1Imbalance: 0\",\"Value: idiomaHeight: 1Imbalance: 0\",\"Value: ondeHeight: 5Imbalance: -1\",\"Value: necess\\u00e1rioHeight: 3Imbalance: 0\",\"Value: installHeight: 2Imbalance: 0\",\"Value: instalarHeight: 1Imbalance: 0\",\"Value: lembreseHeight: 1Imbalance: 0\",\"Value: nesteHeight: 2Imbalance: -1\",\"Value: nltkHeight: 1Imbalance: 0\",\"Value: salvarHeight: 4Imbalance: 1\",\"Value: podeHeight: 3Imbalance: 0\",\"Value: paradaHeight: 2Imbalance: 0\",\"Value: palavrasHeight: 1Imbalance: 0\",\"Value: pipHeight: 1Imbalance: 0\",\"Value: processadoHeight: 2Imbalance: 0\",\"Value: portugu\\u00easHeight: 1Imbalance: 0\",\"Value: realHeight: 1Imbalance: 0\",\"Value: terHeight: 2Imbalance: 0\",\"Value: substituirHeight: 1Imbalance: 0\",\"Value: terminalHeight: 1Imbalance: 0\"],\"marker\":{\"color\":\"blue\",\"size\":30,\"symbol\":\"circle-dot\"},\"mode\":\"markers+text\",\"name\":\"Nodes\",\"text\":[\"instalada\",\"conforme\",\"caminhodoarquivoprocessadotxt\",\"biblioteca\",\"ajustar\",\"arquivo\",\"caminho\",\"caminhodoseuarquivotxt\",\"certifiquese\",\"entrada\",\"deseja\",\"definidas\",\"exemplo\",\"executando\",\"idioma\",\"onde\",\"necess\\u00e1rio\",\"install\",\"instalar\",\"lembrese\",\"neste\",\"nltk\",\"salvar\",\"pode\",\"parada\",\"palavras\",\"pip\",\"processado\",\"portugu\\u00eas\",\"real\",\"ter\",\"substituir\",\"terminal\"],\"textposition\":\"top center\",\"x\":[0,-1,-1.5,-1.75,-1.875,-1.8125,-1.625,-1.25,-1.125,-0.5,-0.75,-0.875,-0.25,-0.375,-0.125,1,0.5,0.25,0.125,0.375,0.75,0.875,1.5,1.25,1.125,1.0625,1.1875,1.375,1.3125,1.4375,1.75,1.625,1.875],\"y\":[0,-2,-3.0,-3.5,-3.75,-3.875,-3.75,-3.5,-3.75,-3.0,-3.5,-3.75,-3.5,-3.75,-3.75,-2,-3.0,-3.5,-3.75,-3.75,-3.5,-3.75,-3.0,-3.5,-3.75,-3.875,-3.875,-3.75,-3.875,-3.875,-3.5,-3.75,-3.75],\"type\":\"scatter\"},{\"line\":{\"color\":\"gray\",\"width\":1.5},\"mode\":\"lines\",\"name\":\"Edges\",\"x\":[0,-1,-1,-1.5,-1.5,-1.75,-1.75,-1.875,-1.875,-1.8125,-1.75,-1.625,-1.5,-1.25,-1.25,-1.125,-1,-0.5,-0.5,-0.75,-0.75,-0.875,-0.5,-0.25,-0.25,-0.375,-0.25,-0.125,0,1,1,0.5,0.5,0.25,0.25,0.125,0.25,0.375,0.5,0.75,0.75,0.875,1,1.5,1.5,1.25,1.25,1.125,1.125,1.0625,1.125,1.1875,1.25,1.375,1.375,1.3125,1.375,1.4375,1.5,1.75,1.75,1.625,1.75,1.875],\"y\":[0,-2,-2,-3.0,-3.0,-3.5,-3.5,-3.75,-3.75,-3.875,-3.5,-3.75,-3.0,-3.5,-3.5,-3.75,-2,-3.0,-3.0,-3.5,-3.5,-3.75,-3.0,-3.5,-3.5,-3.75,-3.5,-3.75,0,-2,-2,-3.0,-3.0,-3.5,-3.5,-3.75,-3.5,-3.75,-3.0,-3.5,-3.5,-3.75,-2,-3.0,-3.0,-3.5,-3.5,-3.75,-3.75,-3.875,-3.75,-3.875,-3.5,-3.75,-3.75,-3.875,-3.75,-3.875,-3.0,-3.5,-3.5,-3.75,-3.5,-3.75],\"type\":\"scatter\"}],                        {\"template\":{\"data\":{\"histogram2dcontour\":[{\"type\":\"histogram2dcontour\",\"colorbar\":{\"outlinewidth\":0,\"ticks\":\"\"},\"colorscale\":[[0.0,\"#0d0887\"],[0.1111111111111111,\"#46039f\"],[0.2222222222222222,\"#7201a8\"],[0.3333333333333333,\"#9c179e\"],[0.4444444444444444,\"#bd3786\"],[0.5555555555555556,\"#d8576b\"],[0.6666666666666666,\"#ed7953\"],[0.7777777777777778,\"#fb9f3a\"],[0.8888888888888888,\"#fdca26\"],[1.0,\"#f0f921\"]]}],\"choropleth\":[{\"type\":\"choropleth\",\"colorbar\":{\"outlinewidth\":0,\"ticks\":\"\"}}],\"histogram2d\":[{\"type\":\"histogram2d\",\"colorbar\":{\"outlinewidth\":0,\"ticks\":\"\"},\"colorscale\":[[0.0,\"#0d0887\"],[0.1111111111111111,\"#46039f\"],[0.2222222222222222,\"#7201a8\"],[0.3333333333333333,\"#9c179e\"],[0.4444444444444444,\"#bd3786\"],[0.5555555555555556,\"#d8576b\"],[0.6666666666666666,\"#ed7953\"],[0.7777777777777778,\"#fb9f3a\"],[0.8888888888888888,\"#fdca26\"],[1.0,\"#f0f921\"]]}],\"heatmap\":[{\"type\":\"heatmap\",\"colorbar\":{\"outlinewidth\":0,\"ticks\":\"\"},\"colorscale\":[[0.0,\"#0d0887\"],[0.1111111111111111,\"#46039f\"],[0.2222222222222222,\"#7201a8\"],[0.3333333333333333,\"#9c179e\"],[0.4444444444444444,\"#bd3786\"],[0.5555555555555556,\"#d8576b\"],[0.6666666666666666,\"#ed7953\"],[0.7777777777777778,\"#fb9f3a\"],[0.8888888888888888,\"#fdca26\"],[1.0,\"#f0f921\"]]}],\"heatmapgl\":[{\"type\":\"heatmapgl\",\"colorbar\":{\"outlinewidth\":0,\"ticks\":\"\"},\"colorscale\":[[0.0,\"#0d0887\"],[0.1111111111111111,\"#46039f\"],[0.2222222222222222,\"#7201a8\"],[0.3333333333333333,\"#9c179e\"],[0.4444444444444444,\"#bd3786\"],[0.5555555555555556,\"#d8576b\"],[0.6666666666666666,\"#ed7953\"],[0.7777777777777778,\"#fb9f3a\"],[0.8888888888888888,\"#fdca26\"],[1.0,\"#f0f921\"]]}],\"contourcarpet\":[{\"type\":\"contourcarpet\",\"colorbar\":{\"outlinewidth\":0,\"ticks\":\"\"}}],\"contour\":[{\"type\":\"contour\",\"colorbar\":{\"outlinewidth\":0,\"ticks\":\"\"},\"colorscale\":[[0.0,\"#0d0887\"],[0.1111111111111111,\"#46039f\"],[0.2222222222222222,\"#7201a8\"],[0.3333333333333333,\"#9c179e\"],[0.4444444444444444,\"#bd3786\"],[0.5555555555555556,\"#d8576b\"],[0.6666666666666666,\"#ed7953\"],[0.7777777777777778,\"#fb9f3a\"],[0.8888888888888888,\"#fdca26\"],[1.0,\"#f0f921\"]]}],\"surface\":[{\"type\":\"surface\",\"colorbar\":{\"outlinewidth\":0,\"ticks\":\"\"},\"colorscale\":[[0.0,\"#0d0887\"],[0.1111111111111111,\"#46039f\"],[0.2222222222222222,\"#7201a8\"],[0.3333333333333333,\"#9c179e\"],[0.4444444444444444,\"#bd3786\"],[0.5555555555555556,\"#d8576b\"],[0.6666666666666666,\"#ed7953\"],[0.7777777777777778,\"#fb9f3a\"],[0.8888888888888888,\"#fdca26\"],[1.0,\"#f0f921\"]]}],\"mesh3d\":[{\"type\":\"mesh3d\",\"colorbar\":{\"outlinewidth\":0,\"ticks\":\"\"}}],\"scatter\":[{\"fillpattern\":{\"fillmode\":\"overlay\",\"size\":10,\"solidity\":0.2},\"type\":\"scatter\"}],\"parcoords\":[{\"type\":\"parcoords\",\"line\":{\"colorbar\":{\"outlinewidth\":0,\"ticks\":\"\"}}}],\"scatterpolargl\":[{\"type\":\"scatterpolargl\",\"marker\":{\"colorbar\":{\"outlinewidth\":0,\"ticks\":\"\"}}}],\"bar\":[{\"error_x\":{\"color\":\"#2a3f5f\"},\"error_y\":{\"color\":\"#2a3f5f\"},\"marker\":{\"line\":{\"color\":\"#E5ECF6\",\"width\":0.5},\"pattern\":{\"fillmode\":\"overlay\",\"size\":10,\"solidity\":0.2}},\"type\":\"bar\"}],\"scattergeo\":[{\"type\":\"scattergeo\",\"marker\":{\"colorbar\":{\"outlinewidth\":0,\"ticks\":\"\"}}}],\"scatterpolar\":[{\"type\":\"scatterpolar\",\"marker\":{\"colorbar\":{\"outlinewidth\":0,\"ticks\":\"\"}}}],\"histogram\":[{\"marker\":{\"pattern\":{\"fillmode\":\"overlay\",\"size\":10,\"solidity\":0.2}},\"type\":\"histogram\"}],\"scattergl\":[{\"type\":\"scattergl\",\"marker\":{\"colorbar\":{\"outlinewidth\":0,\"ticks\":\"\"}}}],\"scatter3d\":[{\"type\":\"scatter3d\",\"line\":{\"colorbar\":{\"outlinewidth\":0,\"ticks\":\"\"}},\"marker\":{\"colorbar\":{\"outlinewidth\":0,\"ticks\":\"\"}}}],\"scattermapbox\":[{\"type\":\"scattermapbox\",\"marker\":{\"colorbar\":{\"outlinewidth\":0,\"ticks\":\"\"}}}],\"scatterternary\":[{\"type\":\"scatterternary\",\"marker\":{\"colorbar\":{\"outlinewidth\":0,\"ticks\":\"\"}}}],\"scattercarpet\":[{\"type\":\"scattercarpet\",\"marker\":{\"colorbar\":{\"outlinewidth\":0,\"ticks\":\"\"}}}],\"carpet\":[{\"aaxis\":{\"endlinecolor\":\"#2a3f5f\",\"gridcolor\":\"white\",\"linecolor\":\"white\",\"minorgridcolor\":\"white\",\"startlinecolor\":\"#2a3f5f\"},\"baxis\":{\"endlinecolor\":\"#2a3f5f\",\"gridcolor\":\"white\",\"linecolor\":\"white\",\"minorgridcolor\":\"white\",\"startlinecolor\":\"#2a3f5f\"},\"type\":\"carpet\"}],\"table\":[{\"cells\":{\"fill\":{\"color\":\"#EBF0F8\"},\"line\":{\"color\":\"white\"}},\"header\":{\"fill\":{\"color\":\"#C8D4E3\"},\"line\":{\"color\":\"white\"}},\"type\":\"table\"}],\"barpolar\":[{\"marker\":{\"line\":{\"color\":\"#E5ECF6\",\"width\":0.5},\"pattern\":{\"fillmode\":\"overlay\",\"size\":10,\"solidity\":0.2}},\"type\":\"barpolar\"}],\"pie\":[{\"automargin\":true,\"type\":\"pie\"}]},\"layout\":{\"autotypenumbers\":\"strict\",\"colorway\":[\"#636efa\",\"#EF553B\",\"#00cc96\",\"#ab63fa\",\"#FFA15A\",\"#19d3f3\",\"#FF6692\",\"#B6E880\",\"#FF97FF\",\"#FECB52\"],\"font\":{\"color\":\"#2a3f5f\"},\"hovermode\":\"closest\",\"hoverlabel\":{\"align\":\"left\"},\"paper_bgcolor\":\"white\",\"plot_bgcolor\":\"#E5ECF6\",\"polar\":{\"bgcolor\":\"#E5ECF6\",\"angularaxis\":{\"gridcolor\":\"white\",\"linecolor\":\"white\",\"ticks\":\"\"},\"radialaxis\":{\"gridcolor\":\"white\",\"linecolor\":\"white\",\"ticks\":\"\"}},\"ternary\":{\"bgcolor\":\"#E5ECF6\",\"aaxis\":{\"gridcolor\":\"white\",\"linecolor\":\"white\",\"ticks\":\"\"},\"baxis\":{\"gridcolor\":\"white\",\"linecolor\":\"white\",\"ticks\":\"\"},\"caxis\":{\"gridcolor\":\"white\",\"linecolor\":\"white\",\"ticks\":\"\"}},\"coloraxis\":{\"colorbar\":{\"outlinewidth\":0,\"ticks\":\"\"}},\"colorscale\":{\"sequential\":[[0.0,\"#0d0887\"],[0.1111111111111111,\"#46039f\"],[0.2222222222222222,\"#7201a8\"],[0.3333333333333333,\"#9c179e\"],[0.4444444444444444,\"#bd3786\"],[0.5555555555555556,\"#d8576b\"],[0.6666666666666666,\"#ed7953\"],[0.7777777777777778,\"#fb9f3a\"],[0.8888888888888888,\"#fdca26\"],[1.0,\"#f0f921\"]],\"sequentialminus\":[[0.0,\"#0d0887\"],[0.1111111111111111,\"#46039f\"],[0.2222222222222222,\"#7201a8\"],[0.3333333333333333,\"#9c179e\"],[0.4444444444444444,\"#bd3786\"],[0.5555555555555556,\"#d8576b\"],[0.6666666666666666,\"#ed7953\"],[0.7777777777777778,\"#fb9f3a\"],[0.8888888888888888,\"#fdca26\"],[1.0,\"#f0f921\"]],\"diverging\":[[0,\"#8e0152\"],[0.1,\"#c51b7d\"],[0.2,\"#de77ae\"],[0.3,\"#f1b6da\"],[0.4,\"#fde0ef\"],[0.5,\"#f7f7f7\"],[0.6,\"#e6f5d0\"],[0.7,\"#b8e186\"],[0.8,\"#7fbc41\"],[0.9,\"#4d9221\"],[1,\"#276419\"]]},\"xaxis\":{\"gridcolor\":\"white\",\"linecolor\":\"white\",\"ticks\":\"\",\"title\":{\"standoff\":15},\"zerolinecolor\":\"white\",\"automargin\":true,\"zerolinewidth\":2},\"yaxis\":{\"gridcolor\":\"white\",\"linecolor\":\"white\",\"ticks\":\"\",\"title\":{\"standoff\":15},\"zerolinecolor\":\"white\",\"automargin\":true,\"zerolinewidth\":2},\"scene\":{\"xaxis\":{\"backgroundcolor\":\"#E5ECF6\",\"gridcolor\":\"white\",\"linecolor\":\"white\",\"showbackground\":true,\"ticks\":\"\",\"zerolinecolor\":\"white\",\"gridwidth\":2},\"yaxis\":{\"backgroundcolor\":\"#E5ECF6\",\"gridcolor\":\"white\",\"linecolor\":\"white\",\"showbackground\":true,\"ticks\":\"\",\"zerolinecolor\":\"white\",\"gridwidth\":2},\"zaxis\":{\"backgroundcolor\":\"#E5ECF6\",\"gridcolor\":\"white\",\"linecolor\":\"white\",\"showbackground\":true,\"ticks\":\"\",\"zerolinecolor\":\"white\",\"gridwidth\":2}},\"shapedefaults\":{\"line\":{\"color\":\"#2a3f5f\"}},\"annotationdefaults\":{\"arrowcolor\":\"#2a3f5f\",\"arrowhead\":0,\"arrowwidth\":1},\"geo\":{\"bgcolor\":\"white\",\"landcolor\":\"#E5ECF6\",\"subunitcolor\":\"white\",\"showland\":true,\"showlakes\":true,\"lakecolor\":\"white\"},\"title\":{\"x\":0.05},\"mapbox\":{\"style\":\"light\"}}},\"xaxis\":{\"showgrid\":false,\"zeroline\":false,\"showticklabels\":false},\"yaxis\":{\"showgrid\":false,\"zeroline\":false,\"showticklabels\":false},\"showlegend\":false,\"hovermode\":\"closest\"},                        {\"responsive\": true}                    ).then(function(){\n",
       "                            \n",
       "var gd = document.getElementById('487ba17f-8ab1-4d65-ae62-fd8151c444c3');\n",
       "var x = new MutationObserver(function (mutations, observer) {{\n",
       "        var display = window.getComputedStyle(gd).display;\n",
       "        if (!display || display === 'none') {{\n",
       "            console.log([gd, 'removed!']);\n",
       "            Plotly.purge(gd);\n",
       "            observer.disconnect();\n",
       "        }}\n",
       "}});\n",
       "\n",
       "// Listen for the removal of the full notebook cells\n",
       "var notebookContainer = gd.closest('#notebook-container');\n",
       "if (notebookContainer) {{\n",
       "    x.observe(notebookContainer, {childList: true});\n",
       "}}\n",
       "\n",
       "// Listen for the clearing of the current output cell\n",
       "var outputEl = gd.closest('.output');\n",
       "if (outputEl) {{\n",
       "    x.observe(outputEl, {childList: true});\n",
       "}}\n",
       "\n",
       "                        })                };                });            </script>        </div>"
      ]
     },
     "metadata": {},
     "output_type": "display_data"
    }
   ],
   "source": [
    "def _get_occurencies(root, prefix, matches):\n",
    "    if root is None:\n",
    "        return\n",
    "    if prefix in root.value and prefix[0] == root.value[0]:\n",
    "        matches.append(root.value)\n",
    "        print(root.value)\n",
    "    if prefix >= root.value:\n",
    "        _get_occurencies(root.right_child, prefix, matches)\n",
    "    if prefix < root.value:\n",
    "        _get_occurencies(root.left_child, prefix, matches)\n",
    "    \n",
    "def get_ocurrencies(avl_tree, prefix):\n",
    "    matches = []\n",
    "    _get_occurencies(avl_tree.root, prefix, matches)\n",
    "    return matches\n",
    "\n",
    "# \"ab\" in \"abraço\" and \"ab\"[0] == \"abraço\"[0]\n",
    "\n",
    "print(get_ocurrencies(avl_tree, \"ins\"))\n",
    "\n",
    "visualize_avl_tree(avl_tree)"
   ]
  },
  {
   "cell_type": "markdown",
   "id": "40881f44-96cf-4c3e-a2c8-a92353637044",
   "metadata": {},
   "source": [
    "## Perfomance analysis"
   ]
  },
  {
   "cell_type": "code",
   "execution_count": null,
   "id": "2792bc4c-b1f0-4099-9e35-acb439b91a88",
   "metadata": {},
   "outputs": [],
   "source": []
  }
 ],
 "metadata": {
  "kernelspec": {
   "display_name": "Python 3 (ipykernel)",
   "language": "python",
   "name": "python3"
  },
  "language_info": {
   "codemirror_mode": {
    "name": "ipython",
    "version": 3
   },
   "file_extension": ".py",
   "mimetype": "text/x-python",
   "name": "python",
   "nbconvert_exporter": "python",
   "pygments_lexer": "ipython3",
   "version": "3.10.11"
  }
 },
 "nbformat": 4,
 "nbformat_minor": 5
}
