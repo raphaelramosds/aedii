{
 "cells": [
  {
   "cell_type": "markdown",
   "metadata": {},
   "source": [
    "## Read file"
   ]
  },
  {
   "cell_type": "code",
   "execution_count": 153,
   "metadata": {
    "scrolled": true
   },
   "outputs": [
    {
     "name": "stdout",
     "output_type": "stream",
     "text": [
      "['Id', 'Company', 'Product', 'TypeName', 'Inches', 'ScreenResolution', 'Cpu', 'Ram', 'Memory', 'Gpu', 'OpSys', 'Weight', 'Price']\n",
      "[['6571244', 'Apple', 'MacBook Pro', 'Ultrabook', '13.3', 'IPS Panel Retina Display 2560x1600', 'Intel Core i5 2.3GHz', '8GB', '128GB SSD', 'Intel Iris Plus Graphics 640', 'macOS', '1.37kg', '1339'], ['7287764', 'Apple', 'Macbook Air', 'Ultrabook', '13.3', '1440x900', 'Intel Core i5 1.8GHz', '8GB', '128GB Flash Storage', 'Intel HD Graphics 6000', 'macOS', '1.34kg', '898'], ['3362737', 'HP', '250 G6', 'Notebook', '15.6', 'Full HD 1920x1080', 'Intel Core i5 7200U 2.5GHz', '8GB', '256GB SSD', 'Intel HD Graphics 620', 'No OS', '1.86kg', '575'], ['9722156', 'Apple', 'MacBook Pro', 'Ultrabook', '15.4', 'IPS Panel Retina Display 2880x1800', 'Intel Core i7 2.7GHz', '16GB', '512GB SSD', 'AMD Radeon Pro 455', 'macOS', '1.83kg', '2537'], ['8550527', 'Apple', 'MacBook Pro', 'Ultrabook', '13.3', 'IPS Panel Retina Display 2560x1600', 'Intel Core i5 3.1GHz', '8GB', '256GB SSD', 'Intel Iris Plus Graphics 650', 'macOS', '1.37kg', '1803']]\n"
     ]
    }
   ],
   "source": [
    "import csv\n",
    "import re\n",
    "\n",
    "rows = []\n",
    "header = []\n",
    "\n",
    "filename = 'laptops.csv'\n",
    "\n",
    "with open(filename, newline='') as file:\n",
    "    csv_reader = csv.reader(file, delimiter=',')\n",
    "    header = next(csv_reader)\n",
    "    for idx, row in enumerate(csv_reader):\n",
    "        if idx > 4:\n",
    "            break\n",
    "        rows.append(row)\n",
    "        \n",
    "print(header)\n",
    "\n",
    "print(rows)"
   ]
  },
  {
   "cell_type": "markdown",
   "metadata": {},
   "source": [
    "## Inventory class"
   ]
  },
  {
   "cell_type": "code",
   "execution_count": 154,
   "metadata": {},
   "outputs": [],
   "source": [
    "def row_price(row):\n",
    "    return row[-1]\n",
    "\n",
    "class Inventory:\n",
    "    def __init__(self, csv_filename):\n",
    "        with open(csv_filename, newline='') as file:\n",
    "            csv_reader = csv.reader(file, delimiter=',')\n",
    "            self.header = next(csv_reader)\n",
    "            self.rows = []\n",
    "            for row in csv_reader:\n",
    "                self.rows.append(row)\n",
    "                row[-1] = int(row[-1])\n",
    "                \n",
    "        self.id_to_row = {}\n",
    "        for row in rows:\n",
    "            self.id_to_row[row[0]] = row\n",
    "            \n",
    "        self.prices = set()\n",
    "        for row in rows:\n",
    "            self.prices.add(row[-1])\n",
    "            \n",
    "        self.rows_by_price = sorted(self.rows, key = row_price)\n",
    "        \n",
    "    def get_laptop_from_id(self, laptop_id):\n",
    "        for laptop in self.rows:\n",
    "            if laptop_id == laptop[0]:\n",
    "                return laptop\n",
    "        return None\n",
    "    \n",
    "    def get_laptop_from_id_fast(self, laptop_id):\n",
    "        if laptop_id in self.id_to_row:\n",
    "            return self.id_to_row[laptop_id]\n",
    "        return None\n",
    "    \n",
    "    def check_promotion_dollars(self, dollars):\n",
    "        for laptop in self.rows:\n",
    "            if laptop[-1] == dollars:\n",
    "                return True\n",
    "        for l1 in range(len(self.rows)):\n",
    "            for l2 in range(l1 + 1, len(self.rows)):\n",
    "                if self.rows[l1][-1] + self.rows[l2][-1] == dollars:\n",
    "                    return True\n",
    "        return False\n",
    "    \n",
    "    def check_promotion_dollars_fast(self, dollars):\n",
    "        seen = set()\n",
    "        if dollars in self.prices:\n",
    "            return True\n",
    "        for laptop in self.rows:\n",
    "            if dollars - laptop[-1] in seen:\n",
    "                return True\n",
    "            seen.add(laptop[-1])   \n",
    "        return False\n",
    "    \n",
    "    def find_first_laptop_more_expensive(self, target_price):\n",
    "        range_start = 0                                   \n",
    "        range_end = len(self.rows_by_price) - 1                   \n",
    "        while range_start < range_end:\n",
    "            range_middle = (range_end + range_start) // 2  \n",
    "            price = self.rows_by_price[range_middle][-1]\n",
    "            if price > target_price:\n",
    "                range_end = range_middle\n",
    "            else:\n",
    "                range_start = range_middle + 1\n",
    "        if self.rows_by_price[range_start][-1] <= target_price:                  \n",
    "            return -1                                   \n",
    "        return range_start\n",
    "        \n",
    "    \"\"\" \n",
    "    Query that finds all laptops whose price is in the given range.\n",
    "    \n",
    "    Args:\n",
    "        min_price: price lower bound\n",
    "        max_price: price upper bound\n",
    "    \"\"\"\n",
    "    def get_laptops_with_price_within(self, min_price, max_price):\n",
    "        return [laptop for laptop in self.rows_by_price if laptop[-1] <= max_price and laptop[-1] >= min_price]\n",
    "\n",
    "    \"\"\"\n",
    "    Query that finds the cheapest laptop that matches the desired \n",
    "    RAM and memory capacity\n",
    "\n",
    "    Args:\n",
    "        ram: string that represents RAM's capacity\n",
    "        memory: string that represents the hard drive capacity\n",
    "    \"\"\"\n",
    "    def _get_spec_from_ram(self, spec):\n",
    "        return int(re.sub(r'[a-zA-Z]','',spec))\n",
    "        \n",
    "    def _get_spec_from_memory(self, string):\n",
    "        mask = r'(\\d+[A-Za-z]+)\\s*([A-Za-z\\s]+)'\n",
    "        matches = re.findall(mask, string)\n",
    "        tuples = set()\n",
    "        for match in matches:\n",
    "            amount_storage = match[0]\n",
    "            type_storage = match[1].strip()\n",
    "            tuples.add((amount_storage, type_storage))\n",
    "        return tuples\n",
    "        \n",
    "    def find_the_cheapest_laptop_with(self, ram, memory):\n",
    "        idx = 0\n",
    "        idx_cheapest = None\n",
    "        price_cheapest = self.rows_by_price[0][-1]\n",
    "        \n",
    "        desired_ram = self._get_spec_from_ram(ram)\n",
    "        desired_memory = self._get_spec_from_memory(memory)\n",
    "        \n",
    "        for laptop in self.rows_by_price:\n",
    "            target_ram = self._get_spec_from_ram(laptop[7])\n",
    "            target_memory = self._get_spec_from_memory(laptop[8])\n",
    "            if desired_ram == target_ram and desired_memory == target_memory:\n",
    "                if laptop[-1] < price_cheapest or idx_cheapest is None:\n",
    "                    price_cheapest = laptop[-1]\n",
    "                    idx_cheapest = idx\n",
    "            idx += 1 \n",
    "            \n",
    "        if idx_cheapest is None:\n",
    "            return -1\n",
    "            \n",
    "        return self.rows_by_price[idx_cheapest]"
   ]
  },
  {
   "cell_type": "markdown",
   "metadata": {},
   "source": [
    "## Testing"
   ]
  },
  {
   "cell_type": "markdown",
   "metadata": {},
   "source": [
    "First, we instantiate the class"
   ]
  },
  {
   "cell_type": "code",
   "execution_count": 155,
   "metadata": {},
   "outputs": [],
   "source": [
    "inventory = Inventory(filename)"
   ]
  },
  {
   "cell_type": "markdown",
   "metadata": {},
   "source": [
    "Then, we perform the queries"
   ]
  },
  {
   "cell_type": "code",
   "execution_count": 156,
   "metadata": {},
   "outputs": [
    {
     "name": "stdout",
     "output_type": "stream",
     "text": [
      "\n",
      " Laptops whose prices are within 100 and 200\n",
      "[['3564228', 'Acer', 'C740-C9QX (3205U/2GB/32GB/Chrome', 'Netbook', '11.6', '1366x768', 'Intel Celeron Dual Core 3205U 1.5GHz', '2GB', '32GB SSD', 'Intel HD Graphics', 'Chrome OS', '1.3kg', 174], ['7667029', 'Asus', 'Vivobook E200HA', 'Netbook', '11.6', '1366x768', 'Intel Atom x5-Z8350 1.44GHz', '2GB', '32GB Flash Storage', 'Intel HD Graphics 400', 'Windows 10', '0.98kg', 191], ['1478754', 'Vero', 'V131 (X5-Z8350/4GB/32GB/FHD/W10)', 'Notebook', '13.3', 'Full HD 1920x1080', 'Intel Atom X5-Z8350 1.44GHz', '4GB', '32GB Flash Storage', 'Intel HD Graphics 400', 'Windows 10', '1.35kg', 196], ['4366200', 'Asus', 'E402WA-GA010T (E2-6110/2GB/32GB/W10)', 'Notebook', '14', '1366x768', 'AMD E-Series E2-6110 1.5GHz', '2GB', '32GB Flash Storage', 'AMD Radeon R2', 'Windows 10', '1.65kg', 199], ['3840240', 'Acer', 'Chromebook C910-C2ST', 'Notebook', '15.6', '1366x768', 'Intel Celeron Dual Core 3205U 1.5GHz', '2GB', '16GB SSD', 'Intel HD Graphics', 'Chrome OS', '2.19kg', 199]]\n",
      "\n",
      " Cheapest laptop with 8GB RAM and 256GB SSD\n",
      "['2618101', 'Acer', 'ES1-523-84K7 (A8-7410/8GB/256GB/FHD/W10)', 'Notebook', '15.6', 'Full HD 1920x1080', 'AMD A8-Series 7410 2.2GHz', '8GB', '256GB SSD', 'AMD Radeon R5', 'Windows 10', '2.23kg', 469]\n",
      "\n",
      " Cheapest laptop with 2GB RAM and 16GB SSD\n",
      "['3840240', 'Acer', 'Chromebook C910-C2ST', 'Notebook', '15.6', '1366x768', 'Intel Celeron Dual Core 3205U 1.5GHz', '2GB', '16GB SSD', 'Intel HD Graphics', 'Chrome OS', '2.19kg', 199]\n"
     ]
    }
   ],
   "source": [
    "print(\"\\n\", \"Laptops whose prices are within 100 and 200\")\n",
    "print(inventory.get_laptops_with_price_within(100,200))\n",
    "\n",
    "print(\"\\n\", \"Cheapest laptop with 8GB RAM and 256GB SSD\")\n",
    "print(inventory.find_the_cheapest_laptop_with('8GB','256GB SSD'))\n",
    "\n",
    "print(\"\\n\", \"Cheapest laptop with 2GB RAM and 16GB SSD\") \n",
    "print(inventory.find_the_cheapest_laptop_with('2GB','16GB SSD'))"
   ]
  }
 ],
 "metadata": {
  "kernelspec": {
   "display_name": "Python 3 (ipykernel)",
   "language": "python",
   "name": "python3"
  },
  "language_info": {
   "codemirror_mode": {
    "name": "ipython",
    "version": 3
   },
   "file_extension": ".py",
   "mimetype": "text/x-python",
   "name": "python",
   "nbconvert_exporter": "python",
   "pygments_lexer": "ipython3",
   "version": "3.10.11"
  }
 },
 "nbformat": 4,
 "nbformat_minor": 4
}
