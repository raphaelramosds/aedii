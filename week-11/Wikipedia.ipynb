{
  "cells": [
    {
      "cell_type": "markdown",
      "metadata": {
        "id": "Tirw9HnrTuau"
      },
      "source": [
        "# 1.0 Case Study: constructing a network of wikipedia pages"
      ]
    },
    {
      "cell_type": "markdown",
      "metadata": {
        "id": "ryNuGuF5aK6t"
      },
      "source": [
        "## 1.1 Introduction"
      ]
    },
    {
      "cell_type": "markdown",
      "metadata": {
        "id": "K4U4cYABYxsK"
      },
      "source": [
        "So far we have learned two ways of constructing a complex network:\n",
        "- from a CSV file\n",
        "- manually\n",
        "\n",
        "What is hard for small networks may be impossible for medium-to-large scale networks; it may be impossible even for small networks if you must repeat the analysis many\n",
        "times. The case study in this lesson shows you **how to construct a large\n",
        "network in an easy way**:\n",
        "- automatically collecting node and edge data from the Internet.\n",
        "\n",
        "The other goal of this study (aside from mastering new network construction\n",
        "techniques) is quite pragmatic.\n",
        "- Wouldn’t you want to know where the **complex\n",
        "network analysis** fits in the context of other subjects and disciplines?\n",
        "\n",
        "An answer to this question is near at hand: [on Wikipedia](https://en.wikipedia.org/wiki/Complex_network).\n",
        "\n",
        "\n",
        "Let’s start with the Wikipedia page about complex networks—the seed page.\n",
        "(Unfortunately, there is no page on complex network analysis itself.) The page\n",
        "body has external links and links to other Wikipedia pages. Those other pages\n",
        "presumably are somewhat related to complex networks, or else why would\n",
        "the Wikipedia editors provide them?\n",
        "To build a network out of the seed page and other relevant pages, **let’s treat\n",
        "the pages (and the respective Wikipedia subjects) as the network nodes and\n",
        "the links between the pages as the network edges**. You will use snowball\n",
        "sampling (a breadth-first search or [BFS algorithm](https://en.wikipedia.org/wiki/Breadth-first_search)) to discover all the nodes and edges of interest.\n",
        "\n",
        "<img width=\"200\" src=\"https://drive.google.com/uc?export=view&id=1iC-cieOaZKy80adviVISLmM-2Zm7NL-i\">\n",
        "\n",
        "As a result, you will have a network of all pages related to complex networks\n",
        "and hopefully, you will make some conclusions about it."
      ]
    },
    {
      "cell_type": "markdown",
      "metadata": {
        "id": "JnNVv00Aalcx"
      },
      "source": [
        "## 1.2 Get the Data, Build the Network"
      ]
    },
    {
      "cell_type": "markdown",
      "metadata": {
        "id": "5DofZOgJa9Nf"
      },
      "source": [
        "The first half of the project script consists of:\n",
        "\n",
        "1. the initialization prologue\n",
        "2. a heavy-duty loop that retrieves the Wikipedia pages and simultaneously builds the network of nodes and edges.\n",
        "\n",
        "Let’s first import all necessary modules. We will need:\n",
        "\n",
        "- the module **wikipedia** for fetching and exploring Wikipedia pages\n",
        "- the operator **itemgetter** for sorting a list of tuples\n",
        "- and, naturally, **networkx** itself.\n",
        "\n",
        "To target the **snowballing process**, define the constant **SEED, the name of the\n",
        "starting page**.\n",
        "\n",
        "> As a side note, by changing the name of the seed page, you can\n",
        "apply this analysis to any other subject on Wikipedia.\n",
        "\n",
        "\n",
        "Last but not least, when you start the snowballing, you will eventually (and\n",
        "quite soon) bump into the pages describing ISBN and ISSN numbers, the\n",
        "arXiv, PubMed, and the like. Almost all other Wikipedia pages refer to one or\n",
        "more of those pages. This hyper-connectedness transforms any network into\n",
        "a collection of almost perfect gigantic stars, making all Wikipedia-based networks\n",
        "look similar. **To avoid the stardom syndrome**, treat the known “star”\n",
        "pages as stop words in information retrieval—in other words, ignore any links\n",
        "to them.\n",
        "\n",
        "Constructing the **black list of stop words**, STOPS, is a matter of trial\n",
        "and error. We put thirteen subjects on it; you may want to add more when you\n",
        "come across other “stars.” We also excluded pages whose names begin with\n",
        "**\"List of\"**, because they are simply lists of other subjects."
      ]
    },
    {
      "cell_type": "code",
      "execution_count": 1,
      "metadata": {
        "id": "sQcOSXayXX1W"
      },
      "outputs": [
        {
          "name": "stdout",
          "output_type": "stream",
          "text": [
            "Requirement already satisfied: wikipedia in c:\\users\\rapha\\appdata\\local\\packages\\pythonsoftwarefoundation.python.3.10_qbz5n2kfra8p0\\localcache\\local-packages\\python310\\site-packages (1.4.0)\n",
            "Requirement already satisfied: beautifulsoup4 in c:\\users\\rapha\\appdata\\local\\packages\\pythonsoftwarefoundation.python.3.10_qbz5n2kfra8p0\\localcache\\local-packages\\python310\\site-packages (from wikipedia) (4.12.2)\n",
            "Requirement already satisfied: requests<3.0.0,>=2.0.0 in c:\\users\\rapha\\appdata\\local\\packages\\pythonsoftwarefoundation.python.3.10_qbz5n2kfra8p0\\localcache\\local-packages\\python310\\site-packages (from wikipedia) (2.31.0)\n",
            "Requirement already satisfied: charset-normalizer<4,>=2 in c:\\users\\rapha\\appdata\\local\\packages\\pythonsoftwarefoundation.python.3.10_qbz5n2kfra8p0\\localcache\\local-packages\\python310\\site-packages (from requests<3.0.0,>=2.0.0->wikipedia) (3.2.0)\n",
            "Requirement already satisfied: idna<4,>=2.5 in c:\\users\\rapha\\appdata\\local\\packages\\pythonsoftwarefoundation.python.3.10_qbz5n2kfra8p0\\localcache\\local-packages\\python310\\site-packages (from requests<3.0.0,>=2.0.0->wikipedia) (3.4)\n",
            "Requirement already satisfied: urllib3<3,>=1.21.1 in c:\\users\\rapha\\appdata\\local\\packages\\pythonsoftwarefoundation.python.3.10_qbz5n2kfra8p0\\localcache\\local-packages\\python310\\site-packages (from requests<3.0.0,>=2.0.0->wikipedia) (2.0.4)\n",
            "Requirement already satisfied: certifi>=2017.4.17 in c:\\users\\rapha\\appdata\\local\\packages\\pythonsoftwarefoundation.python.3.10_qbz5n2kfra8p0\\localcache\\local-packages\\python310\\site-packages (from requests<3.0.0,>=2.0.0->wikipedia) (2023.7.22)\n",
            "Requirement already satisfied: soupsieve>1.2 in c:\\users\\rapha\\appdata\\local\\packages\\pythonsoftwarefoundation.python.3.10_qbz5n2kfra8p0\\localcache\\local-packages\\python310\\site-packages (from beautifulsoup4->wikipedia) (2.4.1)\n"
          ]
        },
        {
          "name": "stderr",
          "output_type": "stream",
          "text": [
            "\n",
            "[notice] A new release of pip is available: 23.2.1 -> 23.3.1\n",
            "[notice] To update, run: C:\\Users\\rapha\\AppData\\Local\\Microsoft\\WindowsApps\\PythonSoftwareFoundation.Python.3.10_qbz5n2kfra8p0\\python.exe -m pip install --upgrade pip\n"
          ]
        }
      ],
      "source": [
        "!pip install wikipedia"
      ]
    },
    {
      "cell_type": "code",
      "execution_count": 2,
      "metadata": {
        "id": "MINWDN4gTzAC"
      },
      "outputs": [],
      "source": [
        "from operator import itemgetter\n",
        "import networkx as nx\n",
        "import wikipedia\n",
        "import matplotlib.pyplot as plt"
      ]
    },
    {
      "cell_type": "code",
      "execution_count": 3,
      "metadata": {
        "id": "lVqdt1994G2J"
      },
      "outputs": [
        {
          "data": {
            "text/plain": [
              "'3.1'"
            ]
          },
          "execution_count": 3,
          "metadata": {},
          "output_type": "execute_result"
        }
      ],
      "source": [
        "nx.__version__"
      ]
    },
    {
      "cell_type": "code",
      "execution_count": 4,
      "metadata": {
        "id": "YPTw8l5iT7z9"
      },
      "outputs": [],
      "source": [
        "#https://en.wikipedia.org/wiki/Complex_network\n",
        "SEED = \"Mud logging\".title()\n",
        "STOPS = (\"International Standard Serial Number\",\n",
        "         \"International Standard Book Number\",\n",
        "         \"National Diet Library\",\n",
        "         \"International Standard Name Identifier\",\n",
        "         \"International Standard Book Number (Identifier)\",\n",
        "         \"Pubmed Identifier\",\n",
        "         \"Pubmed Central\",\n",
        "         \"Digital Object Identifier\",\n",
        "         \"Arxiv\",\n",
        "         \"Proc Natl Acad Sci Usa\",\n",
        "         \"Bibcode\",\n",
        "         \"Library Of Congress Control Number\",\n",
        "         \"Jstor\",\n",
        "         \"Doi (Identifier)\",\n",
        "         \"Isbn (Identifier)\",\n",
        "         \"Pmid (Identifier)\",\n",
        "         \"Arxiv (Identifier)\",\n",
        "         \"Bibcode (Identifier)\")"
      ]
    },
    {
      "cell_type": "markdown",
      "metadata": {
        "id": "ChlfDfm7YQNY"
      },
      "source": [
        "The next code fragment deals with setting up the **snowballing process**. A\n",
        "breadth-first search, or BFS (sometimes known to computer programmers\n",
        "as a snowballing algorithm), must remember which **pages have been already\n",
        "processed** and which have been **discovered but not yet processed**.\n",
        "- the former are stored in the set **done_set**;\n",
        "- the latter, in the list **todo_lst** and **todo_set**.\n",
        "\n",
        "You need two data structures for the unprocessed pages because you want to\n",
        "know whether a page has been already recorded (an unordered lookup, *todo_set*) and\n",
        "which page is the next to be processed (an ordered lookup, *todo_lst*).\n",
        "\n",
        "\n",
        "Snowballing an extensive network—and Wikipedia with 6,578,766 articles in\n",
        "the English segment alone can produce a huge network!—takes considerable\n",
        "time.\n",
        "\n",
        "\n",
        "<img width=\"300\" src=\"https://drive.google.com/uc?export=view&id=1HS_M2Y55UD0PH_-8waDupAkgeDzSPBfG\">\n",
        "\n",
        "\n",
        "Suppose you start with one seed node, and let’s say it has $N\\approx 100$ neighbors.\n",
        "Each of them has $N$ neighbors, too, to the total of $\\approx N+N×N$ nodes. The\n",
        "third round of discovery adds $\\approx N×N×N$ more nodes. The time to shave each\n",
        "next layer of nodes grows exponentially. For this exercise, let’s process only\n",
        "the seed node itself and its immediate neighbors (layers 0 and 1). Processing\n",
        "layer 2 is still feasible, but layer 3 requires $N×N×N×N\\approx 10^8$ page downloads. To keep track of the distance from the currently processed node to the seed, store both the layer to which a node belongs and the node name together as a tuple on the **todo_lst** list."
      ]
    },
    {
      "cell_type": "code",
      "execution_count": 5,
      "metadata": {
        "id": "sy1gJQxwYdNi"
      },
      "outputs": [],
      "source": [
        "todo_lst = [(0, SEED)] # The SEED is in the layer 0\n",
        "todo_set = set(SEED) # The SEED itself\n",
        "done_set = set() # Nothing is done yet"
      ]
    },
    {
      "cell_type": "markdown",
      "metadata": {
        "id": "FlcRZ49jYjSr"
      },
      "source": [
        "**The output of the exercise is a NetworkX graph**. The next fragment will create\n",
        "an empty directed graph that will later absorb discovered nodes and edges.\n",
        "\n",
        "> We choose a **directed graph** because the edges that represent HTML links\n",
        "are naturally directed: a link from page A to page B does not imply a reciprocal\n",
        "link.\n",
        "\n",
        "The same fragment primes the algorithm by extracting the first “to-do” item\n",
        "(both its layer and page name) from the namesake list.\n",
        "\n"
      ]
    },
    {
      "cell_type": "code",
      "execution_count": 6,
      "metadata": {
        "id": "z04Y-it9g5OR"
      },
      "outputs": [],
      "source": [
        "g = nx.DiGraph()\n",
        "layer, page = todo_lst[0]"
      ]
    },
    {
      "cell_type": "markdown",
      "metadata": {
        "id": "cCe-Cq_4hGPH"
      },
      "source": [
        "It may take a fraction of a second to execute the first five lines of the script.\n",
        "It may take the whole next year or longer to finish the next twenty lines\n",
        "because they contain the main collection/construction loop of the project."
      ]
    },
    {
      "cell_type": "code",
      "execution_count": 7,
      "metadata": {
        "id": "ucGHcQ4-hP4V"
      },
      "outputs": [
        {
          "name": "stdout",
          "output_type": "stream",
          "text": [
            "0 Mud Logging\n",
            "1 Butane\n",
            "1 Caliper Log\n",
            "1 Chloride\n",
            "1 Density Logging\n",
            "1 Directional Drilling\n",
            "1 Drill Cuttings\n",
            "1 Drill Ship\n",
            "1 Drill String\n",
            "1 Drilling Fluid\n",
            "1 Drilling Mud\n",
            "1 Drilling Rig\n",
            "1 Ethane\n"
          ]
        },
        {
          "name": "stderr",
          "output_type": "stream",
          "text": [
            "C:\\Users\\rapha\\AppData\\Local\\Packages\\PythonSoftwareFoundation.Python.3.10_qbz5n2kfra8p0\\LocalCache\\local-packages\\Python310\\site-packages\\wikipedia\\wikipedia.py:389: GuessedAtParserWarning: No parser was explicitly specified, so I'm using the best available HTML parser for this system (\"html.parser\"). This usually isn't a problem, but if you run this code on another system, or in a different virtual environment, it may use a different parser and behave differently.\n",
            "\n",
            "The code that caused this warning is on line 389 of the file C:\\Users\\rapha\\AppData\\Local\\Packages\\PythonSoftwareFoundation.Python.3.10_qbz5n2kfra8p0\\LocalCache\\local-packages\\Python310\\site-packages\\wikipedia\\wikipedia.py. To get rid of this warning, pass the additional argument 'features=\"html.parser\"' to the BeautifulSoup constructor.\n",
            "\n",
            "  lis = BeautifulSoup(html).find_all('li')\n"
          ]
        },
        {
          "name": "stdout",
          "output_type": "stream",
          "text": [
            "Could not load Ethane\n",
            "1 Formation (Stratigraphy)\n",
            "1 Gamma Ray Logging\n",
            "1 Gas Detector\n",
            "1 Geologist\n",
            "1 Geosteering\n",
            "1 Hydrocarbon\n",
            "1 Hydrocarbon Exploration\n",
            "1 Hydrocarbons\n",
            "1 Lime (Material)\n",
            "1 Lithology\n",
            "1 Logging While Drilling\n",
            "1 Louisiana\n",
            "1 Mwd (Measurement While Drilling)\n",
            "1 Measurement While Drilling\n",
            "1 Mud Engineer\n",
            "1 Mud Log\n",
            "1 Mud Weight\n",
            "1 Natural Gas\n",
            "1 Nuclear Magnetic Resonance Logging\n",
            "1 Offshore Drilling Rig\n",
            "1 Oil Well\n",
            "1 Petroleum\n",
            "1 Pore Space In Soil\n",
            "1 Porosity\n",
            "1 Propane\n",
            "1 Rate Of Penetration\n",
            "1 Resistivity Logging\n",
            "1 Revolutions Per Minute\n",
            "Could not load Revolutions Per Minute\n",
            "1 Sand\n",
            "Could not load Sand\n",
            "1 Shale\n",
            "1 Sieves\n",
            "1 Sonic Logging\n",
            "1 Spontaneous Potential Logging\n",
            "1 Tool Pusher\n",
            "1 Viscosity\n",
            "1 Well Logging\n",
            "CPU times: total: 2.92 s\n",
            "Wall time: 2min 22s\n"
          ]
        }
      ],
      "source": [
        "%%time\n",
        "while layer < 2:\n",
        "  # Remove the name page of the current page from the todo_lst,\n",
        "  # and add it to the set of processed pages.\n",
        "  # If the script encounters this page again, it will skip over it.\n",
        "  del todo_lst[0]\n",
        "  done_set.add(page)\n",
        "\n",
        "  # Show progress\n",
        "  print(layer, page)\n",
        "\n",
        "  # Attempt to download the selected page.\n",
        "  try:\n",
        "    wiki = wikipedia.page(page)\n",
        "  except:\n",
        "    print(\"Could not load\", page)\n",
        "    layer, page = todo_lst[0]\n",
        "    continue\n",
        "\n",
        "  for link in wiki.links:\n",
        "    link = link.title()\n",
        "    if link not in STOPS and not link.startswith(\"List Of\"):\n",
        "      if link not in todo_set and link not in done_set:\n",
        "        todo_lst.append((layer + 1, link))\n",
        "        todo_set.add(link)\n",
        "      g.add_edge(page, link)\n",
        "  layer, page = todo_lst[0]"
      ]
    },
    {
      "cell_type": "code",
      "execution_count": 8,
      "metadata": {
        "id": "JrtewM_hPqJa"
      },
      "outputs": [
        {
          "name": "stdout",
          "output_type": "stream",
          "text": [
            "8720 nodes, 12740 edges\n"
          ]
        }
      ],
      "source": [
        "print(\"{} nodes, {} edges\".format(len(g), nx.number_of_edges(g)))"
      ]
    },
    {
      "cell_type": "markdown",
      "metadata": {
        "id": "LMX9A1-Nh-8B"
      },
      "source": [
        "The network of interest is now in the variable g. But it is “dirty”: inaccurate, incomplete, and erroneous."
      ]
    },
    {
      "cell_type": "markdown",
      "metadata": {
        "id": "qS911QoZMzb7"
      },
      "source": [
        "## 1.3 Eliminate Duplicates"
      ]
    },
    {
      "cell_type": "markdown",
      "metadata": {
        "id": "UJ_c2SOHNa7O"
      },
      "source": [
        "Many Wikipedia pages exist under two or more names. For example, there\n",
        "are pages about **Complex Network** and **Complex Networks**. The latter redirects\n",
        "to the former, but NetworkX does not know about the redirection.\n",
        "\n",
        "Accurately merging all duplicate nodes involves **natural language processing\n",
        "(NLP) tools that are outside of the scope of this course**. It may suffice to join\n",
        "only those nodes that differ by the presence/absence of the letter s at the end\n",
        "or a hyphen in the middle.\n",
        "\n",
        "Start removing self-loops (pages referring to themselves). The loops don’t change\n",
        "the network properties but affect the correctness of duplicate node elimination.\n",
        "Now, you need a list of at least some duplicate nodes. You can build it by\n",
        "looking at each node in g and checking if a node with the same name, but\n",
        "with an s at the end, is also in g.\n",
        "\n",
        "Pass each pair of duplicated node names to the function **nx.contracted_nodes(g,u,v)** that merges node v into node u in the graph g. The function reassigns all edges previously incident to v, to u. If you don’t pass the option **self_loops=False**, the function converts an edge from v to u (if any) to a self-loop."
      ]
    },
    {
      "cell_type": "code",
      "execution_count": 9,
      "metadata": {
        "id": "8VkbRjFcBQaX"
      },
      "outputs": [],
      "source": [
        "# make a copy of raw graph\n",
        "original = g.copy()"
      ]
    },
    {
      "cell_type": "code",
      "execution_count": 10,
      "metadata": {
        "id": "UFrNIuluN1__"
      },
      "outputs": [
        {
          "name": "stdout",
          "output_type": "stream",
          "text": [
            "[('Hydrocarbon', 'Hydrocarbons'), ('Shale', 'Shales'), ('Alkane', 'Alkanes'), ('Alkene', 'Alkenes'), ('Borane', 'Boranes'), ('Cycloalkane', 'Cycloalkanes'), ('Diphosphene', 'Diphosphenes'), ('Gallane', 'Gallanes'), ('Germane', 'Germanes'), ('Plumbane', 'Plumbanes'), ('Silane', 'Silanes'), ('Stannane', 'Stannanes'), ('Structural Isomer', 'Structural Isomers'), ('Borehole', 'Boreholes'), ('Drill Bit', 'Drill Bits'), ('Clay Mineral', 'Clay Minerals'), ('Deviation Survey', 'Deviation Surveys'), ('Oil Field', 'Oil Fields'), ('Oil Shale', 'Oil Shales'), ('Water Well', 'Water Wells'), ('Fertilizer', 'Fertilizers'), ('Landfill', 'Landfills'), ('Microorganism', 'Microorganisms'), ('Plant', 'Plants'), ('Barge', 'Barges'), ('Semi-Submersible', 'Semi-Submersibles'), ('Glycol', 'Glycols'), ('Shale Shaker', 'Shale Shakers'), ('Feldspar', 'Feldspars'), ('Sandstone', 'Sandstones'), ('Gas Leak', 'Gas Leaks'), ('Refrigerant', 'Refrigerants'), ('Semiconductor', 'Semiconductors'), ('Ultrasonic Sensor', 'Ultrasonic Sensors'), ('Animal', 'Animals'), ('Annulene', 'Annulenes'), ('Fossil Fuel', 'Fossil Fuels'), ('Mushroom', 'Mushrooms'), ('Solid', 'Solids'), ('Magnetometer', 'Magnetometers'), ('Oil Spill', 'Oil Spills'), ('Metamorphic Rock', 'Metamorphic Rocks'), ('Acadian', 'Acadians'), ('Cajun', 'Cajuns'), ('French And Indian War', 'French And Indian Wars'), ('Louisiana Creole', 'Louisiana Creoles'), ('Wetland', 'Wetlands'), ('Lubricant', 'Lubricants'), ('Pharmaceutical', 'Pharmaceuticals'), ('Phenol', 'Phenols'), ('Solvent', 'Solvents'), ('Paleosol', 'Paleosols'), ('Kelvin', 'Kelvins'), ('Newtonian Fluid', 'Newtonian Fluids'), ('Resistivity Log', 'Resistivity Logs')]\n",
            "[('Oil-Based Mud', 'Oil Based Mud'), ('Demand-Controlled Ventilation', 'Demand Controlled Ventilation'), ('Natural-Gas Processing', 'Natural Gas Processing'), ('Measurement-While-Drilling', 'Measurement While Drilling')]\n"
          ]
        }
      ],
      "source": [
        "# remove self loops\n",
        "g.remove_edges_from(nx.selfloop_edges(g))\n",
        "\n",
        "# identify duplicates like that: 'network' and 'networks'\n",
        "duplicates = [(node, node + \"s\")\n",
        "              for node in g if node + \"s\" in g\n",
        "             ]\n",
        "\n",
        "for dup in duplicates:\n",
        "  # *dup is a technique named 'unpacking'\n",
        "  g = nx.contracted_nodes(g, *dup, self_loops=False)\n",
        "\n",
        "print(duplicates)\n",
        "\n",
        "duplicates = [(x, y) for x, y in\n",
        "              [(node, node.replace(\"-\", \" \")) for node in g]\n",
        "                if x != y and y in g]\n",
        "print(duplicates)\n",
        "\n",
        "for dup in duplicates:\n",
        "  g = nx.contracted_nodes(g, *dup, self_loops=False)\n",
        "\n",
        "# nx.contracted creates a new node/edge attribute called contraction\n",
        "# the value of the attribute is a dictionary, but GraphML\n",
        "# does not support dictionary attributes\n",
        "nx.set_node_attributes(g, 0,\"contraction\")\n",
        "nx.set_edge_attributes(g, 0,\"contraction\")"
      ]
    },
    {
      "cell_type": "code",
      "execution_count": 11,
      "metadata": {
        "id": "Bqe2ruDmPcNH"
      },
      "outputs": [
        {
          "name": "stdout",
          "output_type": "stream",
          "text": [
            "8661 nodes, 12291 edges\n"
          ]
        }
      ],
      "source": [
        "print(\"{} nodes, {} edges\".format(len(g), nx.number_of_edges(g)))"
      ]
    },
    {
      "cell_type": "markdown",
      "metadata": {
        "id": "TulPj3ZQQAS8"
      },
      "source": [
        "## 1.4 Truncate the network"
      ]
    },
    {
      "cell_type": "markdown",
      "metadata": {
        "id": "cGjVZK35URcH"
      },
      "source": [
        "Why did you go through all those Wikipedia troubles? First, to construct a\n",
        "network of subjects related to complex networks—and here it is. Second, to\n",
        "find other significant topics related to complex networks. **But what is the\n",
        "measure of significance?**\n",
        "\n",
        "\n",
        "You will discover a variety of network measures latter in this course. For now, let’s concentrate on a **node indegree**—the number of edges directed into the node. (In the same spirit, the number of edges directed out of the node is called **outdegree**.) The indegree of a node equals the number of HTML links pointing to the respective page. **If a page has a lot of links to it, the topic of the page must be significant.**\n",
        "\n",
        "\n",
        "The extracted graph\n",
        "has 13,526 nodes and 24,724 edges—an average of 1.82 edges per node. **Most\n",
        "of the nodes have only one connection**. (Interestingly, there are no isolated\n",
        "nodes with no connection in the graph. Even if they exist, you will not find\n",
        "them because of the way snowballing works.) **You can remove all nodes with\n",
        "only one incident edge to make the network more compact and less hairy\n",
        "without hurting the final results**."
      ]
    },
    {
      "cell_type": "code",
      "execution_count": 12,
      "metadata": {
        "id": "AaHxaOwMLW9B"
      },
      "outputs": [
        {
          "data": {
            "image/png": "[encoded data removed]",
            "text/plain": [
              "<Figure size 800x400 with 2 Axes>"
            ]
          },
          "metadata": {},
          "output_type": "display_data"
        }
      ],
      "source": [
        "plt.style.use(\"default\")\n",
        "# degree sequence\n",
        "degree_sequence = sorted([d for n, d in g.degree()], reverse=True)\n",
        "\n",
        "fig, ax = plt.subplots(1,2,figsize=(8,4))\n",
        "\n",
        "# all_data has information about degree_sequence and the width of each bin\n",
        "ax[0].hist(degree_sequence)\n",
        "ax[1].hist(degree_sequence,bins=[1,2,3,4,5,6,7,8,9,10])\n",
        "\n",
        "ax[0].set_title(\"Degree Histogram\")\n",
        "ax[0].set_ylabel(\"Count\")\n",
        "ax[0].set_xlabel(\"Degree\")\n",
        "ax[0].set_ylim(0,15000)\n",
        "\n",
        "ax[1].set_title(\"Degree Histogram - Zoom\")\n",
        "ax[1].set_ylabel(\"Count\")\n",
        "ax[1].set_xlabel(\"Degree\")\n",
        "ax[1].set_xlim(0,10)\n",
        "ax[1].set_ylim(0,15000)\n",
        "\n",
        "plt.tight_layout()\n",
        "plt.show()"
      ]
    },
    {
      "cell_type": "code",
      "execution_count": 13,
      "metadata": {
        "id": "Br8-5IGIUbVT"
      },
      "outputs": [
        {
          "name": "stdout",
          "output_type": "stream",
          "text": [
            "1128 nodes, 4758 edges\n"
          ]
        }
      ],
      "source": [
        "# filter nodes with degree greater than or equal to 2\n",
        "core = [node for node, deg in dict(g.degree()).items() if deg >= 2]\n",
        "\n",
        "# select a subgraph with 'core' nodes\n",
        "gsub = nx.subgraph(g, core)\n",
        "\n",
        "print(\"{} nodes, {} edges\".format(len(gsub), nx.number_of_edges(gsub)))\n",
        "\n",
        "nx.write_graphml(gsub, \"cna.graphml\")"
      ]
    },
    {
      "cell_type": "code",
      "execution_count": 14,
      "metadata": {
        "id": "GD2AghG1eXMB"
      },
      "outputs": [
        {
          "name": "stdout",
          "output_type": "stream",
          "text": [
            "Nodes removed: 75.17%\n",
            "Edges removed: 40.57%\n",
            "Edges per nodes: 4.03\n"
          ]
        }
      ],
      "source": [
        "print(\"Nodes removed: {:.2f}%\".format(100*(1 - 3420/13775)))\n",
        "print(\"Edges removed: {:.2f}%\".format(100*(1 - 14771/24856)))\n",
        "print(\"Edges per nodes: {:.2f}\".format(13775/3420))"
      ]
    },
    {
      "cell_type": "markdown",
      "metadata": {
        "id": "YSELbSFCX__7"
      },
      "source": [
        "As you can see, the following code fragment safely removes 75 percent of the\n",
        "nodes and 40 percent of the edges, raising the average number of edges per\n",
        "node to 4.03."
      ]
    },
    {
      "cell_type": "markdown",
      "metadata": {
        "id": "5zRjfGLtZ2qB"
      },
      "source": [
        "## 1.5 Explore the network"
      ]
    },
    {
      "cell_type": "markdown",
      "metadata": {
        "id": "RUMyWlK7jqkX"
      },
      "source": [
        "The following figure is a [Gephi](https://gephi.org/) rendering of **gsub**. Node\n",
        "and label font sizes represent the indegrees (a filter was added in gephi just to show only node with indegree greater than 50). The most in-connected, most significant\n",
        "nodes are in the upper-left corner of the network. What are they?\n",
        "\n",
        "<img width=\"600\" src=\"https://drive.google.com/uc?export=view&id=1voCZAh8-8YPKuekNHbc_h45MLgM6Rfg6\">\n",
        "\n",
        "\n",
        "The last code fragment of the exercise efficiently calculates the answer by\n",
        "calling the method **gsub.in_degree()**. The method (and its sister method **gsub.out_degree()**)\n",
        "are very similar to **gsub.degree()** except that they report different edge counts in the form of objects InDegreeView and OutDegreeView, respectively."
      ]
    },
    {
      "cell_type": "code",
      "execution_count": 15,
      "metadata": {
        "id": "gwlRxZ2kmDL-"
      },
      "outputs": [
        {
          "name": "stdout",
          "output_type": "stream",
          "text": [
            "19 Drilling Fluid\n",
            "19 Measurement-While-Drilling\n",
            "19 Well Logging\n",
            "17 Logging While Drilling\n",
            "16 Hydrocarbon\n",
            "16 Petroleum\n",
            "14 Hydrocarbon Exploration\n",
            "14 Oil Well\n",
            "13 Borehole\n",
            "13 Mud Logging\n",
            "13 Directional Drilling\n",
            "13 Drilling Rig\n",
            "13 Issn (Identifier)\n",
            "12 Gulf Of Mexico\n",
            "12 Caliper Log\n",
            "12 Transocean\n",
            "12 S2Cid (Identifier)\n",
            "12 Petrophysics\n",
            "12 Core Sample\n",
            "12 Resistivity Logging\n",
            "12 Gamma Ray Logging\n",
            "12 Geosteering\n",
            "12 Density Logging\n",
            "12 Nuclear Magnetic Resonance Logging\n",
            "12 Sonic Logging\n",
            "12 Petroleum Industry\n",
            "12 Spontaneous Potential Logging\n",
            "12 Natural Gas\n",
            "11 Exxonmobil\n",
            "11 Halliburton\n",
            "11 Exploration Geophysics\n",
            "11 Oil Refinery\n",
            "11 Weatherford International\n",
            "11 Baker Hughes\n",
            "11 Occidental Petroleum\n",
            "11 Petroleum Geology\n",
            "11 Chevron Corporation\n",
            "11 Drilling Engineering\n",
            "11 Türkiye Petrolleri Anonim Ortaklığı\n",
            "11 Valaris Limited\n",
            "11 North Sea Oil\n",
            "11 Reliance Industries\n",
            "11 Blowout (Well Drilling)\n",
            "11 Bp\n",
            "11 Pipeline Transport\n",
            "11 Water Injection (Oil Production)\n",
            "11 Drilling Fluid Invasion\n",
            "11 Drill Stem Test\n",
            "11 Eni\n",
            "11 Persian Gulf\n",
            "11 American Petroleum Institute\n",
            "11 Pumpjack\n",
            "11 Caspian Sea\n",
            "11 Wayback Machine\n",
            "11 Conocophillips\n",
            "11 Society Of Petroleum Engineers\n",
            "11 Schlumberger\n",
            "10 Surgutneftegas\n",
            "10 Gunvor (Company)\n",
            "10 Enbridge\n",
            "10 Galp Energia\n",
            "10 Oil Shale Gas\n",
            "10 Petronas\n",
            "10 Port Harcourt Refining Company\n",
            "10 Vitol\n",
            "10 Differential Sticking\n",
            "10 Bharat Petroleum\n",
            "10 Gazprom\n",
            "10 Ch2M\n",
            "10 Nov Inc.\n",
            "10 Petroleum Licensing\n",
            "10 Oil Sands\n",
            "10 Ypf\n",
            "10 National Iranian Oil Company\n",
            "10 Enhanced Oil Recovery\n",
            "10 Snam\n",
            "10 Cenovus Energy\n",
            "10 1967 Oil Embargo\n",
            "10 East Midlands Oil Province\n",
            "10 Mercuria Energy Group\n",
            "10 Oil Reserves In Venezuela\n",
            "10 History Of The Petroleum Industry\n",
            "10 Unconventional Oil\n",
            "10 Shell Plc\n",
            "10 Prudhoe Bay Oil Field\n",
            "10 Oil Reserves In Russia\n",
            "10 Permian Basin (North America)\n",
            "10 Petrofac\n",
            "10 Shale Oil Extraction\n",
            "10 1973 Oil Crisis\n",
            "10 Tüpraş\n",
            "10 History Of The Petroleum Industry In France\n",
            "10 Petrofiction\n",
            "10 Completion (Oil And Gas Wells)\n",
            "10 Phillips 66\n",
            "10 Lost Circulation\n",
            "10 Artificial Lift\n",
            "10 Petrodollar Recycling\n",
            "10 Canadian Petroleum Companies\n",
            "10 Fredrik Ljungström\n"
          ]
        }
      ],
      "source": [
        "top_indegree = sorted(dict(gsub.in_degree()).items(),\n",
        "                      reverse=True, key=itemgetter(1))[:100]\n",
        "print(\"\\n\".join(map(lambda t: \"{} {}\".format(*reversed(t)), top_indegree)))"
      ]
    },
    {
      "cell_type": "markdown",
      "metadata": {
        "id": "6PQT-sl0mulb"
      },
      "source": [
        "**Further Studies**\n",
        "\n",
        "\n",
        "- This section presented a complete complex network construction case study,\n",
        "starting from the raw data in the form of HTML pages, all the way to an analyzable\n",
        "annotated network graph and a simple exploratory exercise. This is\n",
        "a good foundation for more systematic complex network studies. Now is your turn, choice a topic of your interest and reproduce yourself a complet complex network case study.\n",
        "\n",
        "- Some examples (not limited to):\n",
        "\n",
        "  - https://en.wikipedia.org/wiki/Black_Lives_Matter\n",
        "  - https://en.wikipedia.org/wiki/COVID-19\n",
        "  - https://en.wikipedia.org/wiki/Harry_Potter\n",
        "  - https://en.wikipedia.org/wiki/Sherlock_Holmes\n",
        "  - https://en.wikipedia.org/wiki/Augusto_Severo_de_Albuquerque_Maranh%C3%A3o\n",
        "  - https://en.wikipedia.org/wiki/Brazil\n",
        "  - https://en.wikipedia.org/wiki/Bitcoin\n",
        "  - https://en.wikipedia.org/wiki/Federal_University_of_Rio_Grande_do_Norte\n",
        "  - https://en.wikipedia.org/wiki/Petrobras\n",
        "  - https://en.wikipedia.org/wiki/List_of_presidents_of_Brazil\n",
        "- Explore some metrics studied in Unit 02 to highlight insights in your analysis."
      ]
    },
    {
      "cell_type": "code",
      "execution_count": null,
      "metadata": {},
      "outputs": [],
      "source": [
        "# put your results here\n",
        "\n"
      ]
    }
  ],
  "metadata": {
    "colab": {
      "provenance": []
    },
    "kernelspec": {
      "display_name": "Python 3",
      "name": "python3"
    },
    "language_info": {
      "codemirror_mode": {
        "name": "ipython",
        "version": 3
      },
      "file_extension": ".py",
      "mimetype": "text/x-python",
      "name": "python",
      "nbconvert_exporter": "python",
      "pygments_lexer": "ipython3",
      "version": "3.10.11"
    }
  },
  "nbformat": 4,
  "nbformat_minor": 0
}
